{
 "cells": [
  {
   "cell_type": "markdown",
   "id": "98a6007f",
   "metadata": {},
   "source": [
    "## Stack - Projeto Human Resources Analytics"
   ]
  },
  {
   "cell_type": "markdown",
   "id": "88e6f5ce",
   "metadata": {},
   "source": [
    "### Machine Learning."
   ]
  },
  {
   "cell_type": "code",
   "execution_count": 2,
   "id": "c3306917",
   "metadata": {},
   "outputs": [
    {
     "name": "stdout",
     "output_type": "stream",
     "text": [
      "Collecting minio\n",
      "  Using cached minio-7.1.3-py3-none-any.whl (75 kB)\n",
      "Requirement already satisfied: urllib3 in c:\\users\\user\\anaconda3\\envs\\pedro\\lib\\site-packages (from minio) (1.26.8)\n",
      "Requirement already satisfied: certifi in c:\\users\\user\\anaconda3\\envs\\pedro\\lib\\site-packages (from minio) (2021.10.8)\n",
      "Installing collected packages: minio\n",
      "Successfully installed minio-7.1.3\n"
     ]
    }
   ],
   "source": [
    "!pip install minio"
   ]
  },
  {
   "cell_type": "code",
   "execution_count": 3,
   "id": "5fecee90",
   "metadata": {},
   "outputs": [],
   "source": [
    "import pandas as pd\n",
    "import datetime\n",
    "import glob\n",
    "from minio import Minio\n",
    "import numpy as np\n",
    "import matplotlib.pyplot as plt"
   ]
  },
  {
   "cell_type": "code",
   "execution_count": 4,
   "id": "f1727328",
   "metadata": {},
   "outputs": [],
   "source": [
    "client = Minio(\n",
    "        \"localhost:9000\",\n",
    "        access_key=\"minioadmin\",\n",
    "        secret_key=\"minioadmin\",\n",
    "        secure=False\n",
    "    )"
   ]
  },
  {
   "cell_type": "markdown",
   "id": "2c0256a2",
   "metadata": {},
   "source": [
    "### Baixando o Dataset do Data Lake."
   ]
  },
  {
   "cell_type": "code",
   "execution_count": 5,
   "id": "da91fe86",
   "metadata": {},
   "outputs": [
    {
     "name": "stdout",
     "output_type": "stream",
     "text": [
      "Collecting parquet\n",
      "  Using cached parquet-1.3.1-py3-none-any.whl (24 kB)\n",
      "Collecting thriftpy2\n",
      "  Using cached thriftpy2-0.4.14.tar.gz (361 kB)\n",
      "Collecting ply<4.0,>=3.4\n",
      "  Using cached ply-3.11-py2.py3-none-any.whl (49 kB)\n",
      "Building wheels for collected packages: thriftpy2\n",
      "  Building wheel for thriftpy2 (setup.py): started\n",
      "  Building wheel for thriftpy2 (setup.py): finished with status 'done'\n",
      "  Created wheel for thriftpy2: filename=thriftpy2-0.4.14-py2.py3-none-any.whl size=321001 sha256=30fda1123c3e09b6ecfe22104983c4782d6017a9aaeb0c61f11246a02ebc67b8\n",
      "  Stored in directory: c:\\users\\user\\appdata\\local\\pip\\cache\\wheels\\eb\\a5\\fa\\60bfe53464bb7eb85b1153e0469f3cc177d522ddf7ff4fc1c8\n",
      "Successfully built thriftpy2\n",
      "Installing collected packages: ply, thriftpy2, parquet\n",
      "Successfully installed parquet-1.3.1 ply-3.11 thriftpy2-0.4.14\n"
     ]
    }
   ],
   "source": [
    "!pip install parquet"
   ]
  },
  {
   "cell_type": "code",
   "execution_count": 6,
   "id": "ba182b62",
   "metadata": {},
   "outputs": [
    {
     "name": "stdout",
     "output_type": "stream",
     "text": [
      "Collecting pyarrow\n",
      "  Downloading pyarrow-7.0.0-cp38-cp38-win_amd64.whl (16.1 MB)\n",
      "Requirement already satisfied: numpy>=1.16.6 in c:\\users\\user\\anaconda3\\envs\\pedro\\lib\\site-packages (from pyarrow) (1.19.5)\n",
      "Installing collected packages: pyarrow\n",
      "Successfully installed pyarrow-7.0.0\n",
      "Collecting fastparquet\n",
      "  Downloading fastparquet-0.8.0-cp38-cp38-win_amd64.whl (664 kB)\n",
      "Requirement already satisfied: pandas>=1.1.0 in c:\\users\\user\\anaconda3\\envs\\pedro\\lib\\site-packages (from fastparquet) (1.4.0)\n",
      "Collecting cramjam>=2.3.0\n",
      "  Downloading cramjam-2.5.0-cp38-none-win_amd64.whl (993 kB)\n",
      "Collecting fsspec\n",
      "  Using cached fsspec-2022.1.0-py3-none-any.whl (133 kB)\n",
      "Requirement already satisfied: numpy>=1.18 in c:\\users\\user\\anaconda3\\envs\\pedro\\lib\\site-packages (from fastparquet) (1.19.5)\n",
      "Requirement already satisfied: pytz>=2020.1 in c:\\users\\user\\anaconda3\\envs\\pedro\\lib\\site-packages (from pandas>=1.1.0->fastparquet) (2021.3)\n",
      "Requirement already satisfied: python-dateutil>=2.8.1 in c:\\users\\user\\anaconda3\\envs\\pedro\\lib\\site-packages (from pandas>=1.1.0->fastparquet) (2.8.2)\n",
      "Requirement already satisfied: six>=1.5 in c:\\users\\user\\anaconda3\\envs\\pedro\\lib\\site-packages (from python-dateutil>=2.8.1->pandas>=1.1.0->fastparquet) (1.16.0)\n",
      "Installing collected packages: fsspec, cramjam, fastparquet\n",
      "Successfully installed cramjam-2.5.0 fastparquet-0.8.0 fsspec-2022.1.0\n"
     ]
    }
   ],
   "source": [
    "!pip install pyarrow\n",
    "!pip install fastparquet"
   ]
  },
  {
   "cell_type": "code",
   "execution_count": 7,
   "id": "6c6e7eba",
   "metadata": {},
   "outputs": [],
   "source": [
    "client.fget_object(\n",
    "            \"processing\",\n",
    "            \"employees_dataset.parquet\",\n",
    "            \"temp_.parquet\",\n",
    ")\n",
    "df = pd.read_parquet(\"temp_.parquet\")"
   ]
  },
  {
   "cell_type": "code",
   "execution_count": 8,
   "id": "f9dc98f4",
   "metadata": {
    "scrolled": true
   },
   "outputs": [
    {
     "data": {
      "text/html": [
       "<div>\n",
       "<style scoped>\n",
       "    .dataframe tbody tr th:only-of-type {\n",
       "        vertical-align: middle;\n",
       "    }\n",
       "\n",
       "    .dataframe tbody tr th {\n",
       "        vertical-align: top;\n",
       "    }\n",
       "\n",
       "    .dataframe thead th {\n",
       "        text-align: right;\n",
       "    }\n",
       "</style>\n",
       "<table border=\"1\" class=\"dataframe\">\n",
       "  <thead>\n",
       "    <tr style=\"text-align: right;\">\n",
       "      <th></th>\n",
       "      <th>department</th>\n",
       "      <th>salary</th>\n",
       "      <th>left</th>\n",
       "      <th>mean_work_last_3_months</th>\n",
       "      <th>number_projects</th>\n",
       "      <th>satisfaction_level</th>\n",
       "      <th>last_evaluation</th>\n",
       "      <th>time_in_company</th>\n",
       "      <th>work_accident</th>\n",
       "    </tr>\n",
       "  </thead>\n",
       "  <tbody>\n",
       "    <tr>\n",
       "      <th>0</th>\n",
       "      <td>sales</td>\n",
       "      <td>low</td>\n",
       "      <td>1.0</td>\n",
       "      <td>266.000000</td>\n",
       "      <td>2.0</td>\n",
       "      <td>38.0</td>\n",
       "      <td>53.0</td>\n",
       "      <td>3.0</td>\n",
       "      <td>0.0</td>\n",
       "    </tr>\n",
       "    <tr>\n",
       "      <th>1</th>\n",
       "      <td>sales</td>\n",
       "      <td>medium</td>\n",
       "      <td>1.0</td>\n",
       "      <td>252.000000</td>\n",
       "      <td>5.0</td>\n",
       "      <td>80.0</td>\n",
       "      <td>86.0</td>\n",
       "      <td>6.0</td>\n",
       "      <td>0.0</td>\n",
       "    </tr>\n",
       "    <tr>\n",
       "      <th>2</th>\n",
       "      <td>sales</td>\n",
       "      <td>medium</td>\n",
       "      <td>1.0</td>\n",
       "      <td>289.666667</td>\n",
       "      <td>7.0</td>\n",
       "      <td>11.0</td>\n",
       "      <td>88.0</td>\n",
       "      <td>4.0</td>\n",
       "      <td>0.0</td>\n",
       "    </tr>\n",
       "    <tr>\n",
       "      <th>3</th>\n",
       "      <td>sales</td>\n",
       "      <td>low</td>\n",
       "      <td>1.0</td>\n",
       "      <td>275.666667</td>\n",
       "      <td>5.0</td>\n",
       "      <td>72.0</td>\n",
       "      <td>87.0</td>\n",
       "      <td>5.0</td>\n",
       "      <td>0.0</td>\n",
       "    </tr>\n",
       "    <tr>\n",
       "      <th>4</th>\n",
       "      <td>sales</td>\n",
       "      <td>low</td>\n",
       "      <td>1.0</td>\n",
       "      <td>292.333333</td>\n",
       "      <td>2.0</td>\n",
       "      <td>37.0</td>\n",
       "      <td>52.0</td>\n",
       "      <td>3.0</td>\n",
       "      <td>0.0</td>\n",
       "    </tr>\n",
       "  </tbody>\n",
       "</table>\n",
       "</div>"
      ],
      "text/plain": [
       "  department  salary  left  mean_work_last_3_months  number_projects  \\\n",
       "0      sales     low   1.0               266.000000              2.0   \n",
       "1      sales  medium   1.0               252.000000              5.0   \n",
       "2      sales  medium   1.0               289.666667              7.0   \n",
       "3      sales     low   1.0               275.666667              5.0   \n",
       "4      sales     low   1.0               292.333333              2.0   \n",
       "\n",
       "   satisfaction_level  last_evaluation  time_in_company  work_accident  \n",
       "0                38.0             53.0              3.0            0.0  \n",
       "1                80.0             86.0              6.0            0.0  \n",
       "2                11.0             88.0              4.0            0.0  \n",
       "3                72.0             87.0              5.0            0.0  \n",
       "4                37.0             52.0              3.0            0.0  "
      ]
     },
     "execution_count": 8,
     "metadata": {},
     "output_type": "execute_result"
    }
   ],
   "source": [
    "df.head()"
   ]
  },
  {
   "cell_type": "markdown",
   "id": "1dfbe619",
   "metadata": {},
   "source": [
    "#### Organizando o dataset."
   ]
  },
  {
   "cell_type": "code",
   "execution_count": 9,
   "id": "06d1f23e",
   "metadata": {},
   "outputs": [],
   "source": [
    "df = df[['department', 'salary', 'mean_work_last_3_months',\n",
    "       'number_projects', 'satisfaction_level', 'last_evaluation',\n",
    "       'time_in_company', 'work_accident','left']]"
   ]
  },
  {
   "cell_type": "code",
   "execution_count": 10,
   "id": "97223dcf",
   "metadata": {
    "scrolled": true
   },
   "outputs": [
    {
     "data": {
      "text/html": [
       "<div>\n",
       "<style scoped>\n",
       "    .dataframe tbody tr th:only-of-type {\n",
       "        vertical-align: middle;\n",
       "    }\n",
       "\n",
       "    .dataframe tbody tr th {\n",
       "        vertical-align: top;\n",
       "    }\n",
       "\n",
       "    .dataframe thead th {\n",
       "        text-align: right;\n",
       "    }\n",
       "</style>\n",
       "<table border=\"1\" class=\"dataframe\">\n",
       "  <thead>\n",
       "    <tr style=\"text-align: right;\">\n",
       "      <th></th>\n",
       "      <th>department</th>\n",
       "      <th>salary</th>\n",
       "      <th>mean_work_last_3_months</th>\n",
       "      <th>number_projects</th>\n",
       "      <th>satisfaction_level</th>\n",
       "      <th>last_evaluation</th>\n",
       "      <th>time_in_company</th>\n",
       "      <th>work_accident</th>\n",
       "      <th>left</th>\n",
       "    </tr>\n",
       "  </thead>\n",
       "  <tbody>\n",
       "    <tr>\n",
       "      <th>0</th>\n",
       "      <td>sales</td>\n",
       "      <td>low</td>\n",
       "      <td>266.000000</td>\n",
       "      <td>2.0</td>\n",
       "      <td>38.0</td>\n",
       "      <td>53.0</td>\n",
       "      <td>3.0</td>\n",
       "      <td>0.0</td>\n",
       "      <td>1.0</td>\n",
       "    </tr>\n",
       "    <tr>\n",
       "      <th>1</th>\n",
       "      <td>sales</td>\n",
       "      <td>medium</td>\n",
       "      <td>252.000000</td>\n",
       "      <td>5.0</td>\n",
       "      <td>80.0</td>\n",
       "      <td>86.0</td>\n",
       "      <td>6.0</td>\n",
       "      <td>0.0</td>\n",
       "      <td>1.0</td>\n",
       "    </tr>\n",
       "    <tr>\n",
       "      <th>2</th>\n",
       "      <td>sales</td>\n",
       "      <td>medium</td>\n",
       "      <td>289.666667</td>\n",
       "      <td>7.0</td>\n",
       "      <td>11.0</td>\n",
       "      <td>88.0</td>\n",
       "      <td>4.0</td>\n",
       "      <td>0.0</td>\n",
       "      <td>1.0</td>\n",
       "    </tr>\n",
       "    <tr>\n",
       "      <th>3</th>\n",
       "      <td>sales</td>\n",
       "      <td>low</td>\n",
       "      <td>275.666667</td>\n",
       "      <td>5.0</td>\n",
       "      <td>72.0</td>\n",
       "      <td>87.0</td>\n",
       "      <td>5.0</td>\n",
       "      <td>0.0</td>\n",
       "      <td>1.0</td>\n",
       "    </tr>\n",
       "    <tr>\n",
       "      <th>4</th>\n",
       "      <td>sales</td>\n",
       "      <td>low</td>\n",
       "      <td>292.333333</td>\n",
       "      <td>2.0</td>\n",
       "      <td>37.0</td>\n",
       "      <td>52.0</td>\n",
       "      <td>3.0</td>\n",
       "      <td>0.0</td>\n",
       "      <td>1.0</td>\n",
       "    </tr>\n",
       "  </tbody>\n",
       "</table>\n",
       "</div>"
      ],
      "text/plain": [
       "  department  salary  mean_work_last_3_months  number_projects  \\\n",
       "0      sales     low               266.000000              2.0   \n",
       "1      sales  medium               252.000000              5.0   \n",
       "2      sales  medium               289.666667              7.0   \n",
       "3      sales     low               275.666667              5.0   \n",
       "4      sales     low               292.333333              2.0   \n",
       "\n",
       "   satisfaction_level  last_evaluation  time_in_company  work_accident  left  \n",
       "0                38.0             53.0              3.0            0.0   1.0  \n",
       "1                80.0             86.0              6.0            0.0   1.0  \n",
       "2                11.0             88.0              4.0            0.0   1.0  \n",
       "3                72.0             87.0              5.0            0.0   1.0  \n",
       "4                37.0             52.0              3.0            0.0   1.0  "
      ]
     },
     "execution_count": 10,
     "metadata": {},
     "output_type": "execute_result"
    }
   ],
   "source": [
    "df.head()"
   ]
  },
  {
   "cell_type": "markdown",
   "id": "7889d46c",
   "metadata": {},
   "source": [
    "#### Verificando os registros missing."
   ]
  },
  {
   "cell_type": "code",
   "execution_count": 11,
   "id": "02acf231",
   "metadata": {},
   "outputs": [
    {
     "data": {
      "text/plain": [
       "department                 1\n",
       "salary                     1\n",
       "mean_work_last_3_months    0\n",
       "number_projects            1\n",
       "satisfaction_level         1\n",
       "last_evaluation            1\n",
       "time_in_company            1\n",
       "work_accident              1\n",
       "left                       1\n",
       "dtype: int64"
      ]
     },
     "execution_count": 11,
     "metadata": {},
     "output_type": "execute_result"
    }
   ],
   "source": [
    "df.isnull().sum()"
   ]
  },
  {
   "cell_type": "code",
   "execution_count": 16,
   "id": "c0e89b2b",
   "metadata": {},
   "outputs": [
    {
     "data": {
      "text/html": [
       "<div>\n",
       "<style scoped>\n",
       "    .dataframe tbody tr th:only-of-type {\n",
       "        vertical-align: middle;\n",
       "    }\n",
       "\n",
       "    .dataframe tbody tr th {\n",
       "        vertical-align: top;\n",
       "    }\n",
       "\n",
       "    .dataframe thead th {\n",
       "        text-align: right;\n",
       "    }\n",
       "</style>\n",
       "<table border=\"1\" class=\"dataframe\">\n",
       "  <thead>\n",
       "    <tr style=\"text-align: right;\">\n",
       "      <th></th>\n",
       "      <th>department</th>\n",
       "      <th>salary</th>\n",
       "      <th>mean_work_last_3_months</th>\n",
       "      <th>number_projects</th>\n",
       "      <th>satisfaction_level</th>\n",
       "      <th>last_evaluation</th>\n",
       "      <th>time_in_company</th>\n",
       "      <th>work_accident</th>\n",
       "      <th>left</th>\n",
       "    </tr>\n",
       "  </thead>\n",
       "  <tbody>\n",
       "    <tr>\n",
       "      <th>0</th>\n",
       "      <td>sales</td>\n",
       "      <td>low</td>\n",
       "      <td>266.000000</td>\n",
       "      <td>2.0</td>\n",
       "      <td>38.0</td>\n",
       "      <td>53.0</td>\n",
       "      <td>3.0</td>\n",
       "      <td>0.0</td>\n",
       "      <td>1.0</td>\n",
       "    </tr>\n",
       "    <tr>\n",
       "      <th>1</th>\n",
       "      <td>sales</td>\n",
       "      <td>medium</td>\n",
       "      <td>252.000000</td>\n",
       "      <td>5.0</td>\n",
       "      <td>80.0</td>\n",
       "      <td>86.0</td>\n",
       "      <td>6.0</td>\n",
       "      <td>0.0</td>\n",
       "      <td>1.0</td>\n",
       "    </tr>\n",
       "    <tr>\n",
       "      <th>2</th>\n",
       "      <td>sales</td>\n",
       "      <td>medium</td>\n",
       "      <td>289.666667</td>\n",
       "      <td>7.0</td>\n",
       "      <td>11.0</td>\n",
       "      <td>88.0</td>\n",
       "      <td>4.0</td>\n",
       "      <td>0.0</td>\n",
       "      <td>1.0</td>\n",
       "    </tr>\n",
       "    <tr>\n",
       "      <th>3</th>\n",
       "      <td>sales</td>\n",
       "      <td>low</td>\n",
       "      <td>275.666667</td>\n",
       "      <td>5.0</td>\n",
       "      <td>72.0</td>\n",
       "      <td>87.0</td>\n",
       "      <td>5.0</td>\n",
       "      <td>0.0</td>\n",
       "      <td>1.0</td>\n",
       "    </tr>\n",
       "    <tr>\n",
       "      <th>4</th>\n",
       "      <td>sales</td>\n",
       "      <td>low</td>\n",
       "      <td>292.333333</td>\n",
       "      <td>2.0</td>\n",
       "      <td>37.0</td>\n",
       "      <td>52.0</td>\n",
       "      <td>3.0</td>\n",
       "      <td>0.0</td>\n",
       "      <td>1.0</td>\n",
       "    </tr>\n",
       "    <tr>\n",
       "      <th>...</th>\n",
       "      <td>...</td>\n",
       "      <td>...</td>\n",
       "      <td>...</td>\n",
       "      <td>...</td>\n",
       "      <td>...</td>\n",
       "      <td>...</td>\n",
       "      <td>...</td>\n",
       "      <td>...</td>\n",
       "      <td>...</td>\n",
       "    </tr>\n",
       "    <tr>\n",
       "      <th>14995</th>\n",
       "      <td>technical</td>\n",
       "      <td>low</td>\n",
       "      <td>253.333333</td>\n",
       "      <td>2.0</td>\n",
       "      <td>37.0</td>\n",
       "      <td>48.0</td>\n",
       "      <td>3.0</td>\n",
       "      <td>0.0</td>\n",
       "      <td>1.0</td>\n",
       "    </tr>\n",
       "    <tr>\n",
       "      <th>14996</th>\n",
       "      <td>technical</td>\n",
       "      <td>medium</td>\n",
       "      <td>288.000000</td>\n",
       "      <td>2.0</td>\n",
       "      <td>37.0</td>\n",
       "      <td>53.0</td>\n",
       "      <td>3.0</td>\n",
       "      <td>0.0</td>\n",
       "      <td>1.0</td>\n",
       "    </tr>\n",
       "    <tr>\n",
       "      <th>14997</th>\n",
       "      <td>support</td>\n",
       "      <td>low</td>\n",
       "      <td>272.000000</td>\n",
       "      <td>6.0</td>\n",
       "      <td>11.0</td>\n",
       "      <td>96.0</td>\n",
       "      <td>4.0</td>\n",
       "      <td>0.0</td>\n",
       "      <td>1.0</td>\n",
       "    </tr>\n",
       "    <tr>\n",
       "      <th>14998</th>\n",
       "      <td>support</td>\n",
       "      <td>low</td>\n",
       "      <td>276.666667</td>\n",
       "      <td>2.0</td>\n",
       "      <td>37.0</td>\n",
       "      <td>52.0</td>\n",
       "      <td>3.0</td>\n",
       "      <td>0.0</td>\n",
       "      <td>1.0</td>\n",
       "    </tr>\n",
       "    <tr>\n",
       "      <th>14999</th>\n",
       "      <td>NaN</td>\n",
       "      <td>NaN</td>\n",
       "      <td>261.000000</td>\n",
       "      <td>NaN</td>\n",
       "      <td>NaN</td>\n",
       "      <td>NaN</td>\n",
       "      <td>NaN</td>\n",
       "      <td>NaN</td>\n",
       "      <td>NaN</td>\n",
       "    </tr>\n",
       "  </tbody>\n",
       "</table>\n",
       "<p>15000 rows × 9 columns</p>\n",
       "</div>"
      ],
      "text/plain": [
       "      department  salary  mean_work_last_3_months  number_projects  \\\n",
       "0          sales     low               266.000000              2.0   \n",
       "1          sales  medium               252.000000              5.0   \n",
       "2          sales  medium               289.666667              7.0   \n",
       "3          sales     low               275.666667              5.0   \n",
       "4          sales     low               292.333333              2.0   \n",
       "...          ...     ...                      ...              ...   \n",
       "14995  technical     low               253.333333              2.0   \n",
       "14996  technical  medium               288.000000              2.0   \n",
       "14997    support     low               272.000000              6.0   \n",
       "14998    support     low               276.666667              2.0   \n",
       "14999        NaN     NaN               261.000000              NaN   \n",
       "\n",
       "       satisfaction_level  last_evaluation  time_in_company  work_accident  \\\n",
       "0                    38.0             53.0              3.0            0.0   \n",
       "1                    80.0             86.0              6.0            0.0   \n",
       "2                    11.0             88.0              4.0            0.0   \n",
       "3                    72.0             87.0              5.0            0.0   \n",
       "4                    37.0             52.0              3.0            0.0   \n",
       "...                   ...              ...              ...            ...   \n",
       "14995                37.0             48.0              3.0            0.0   \n",
       "14996                37.0             53.0              3.0            0.0   \n",
       "14997                11.0             96.0              4.0            0.0   \n",
       "14998                37.0             52.0              3.0            0.0   \n",
       "14999                 NaN              NaN              NaN            NaN   \n",
       "\n",
       "       left  \n",
       "0       1.0  \n",
       "1       1.0  \n",
       "2       1.0  \n",
       "3       1.0  \n",
       "4       1.0  \n",
       "...     ...  \n",
       "14995   1.0  \n",
       "14996   1.0  \n",
       "14997   1.0  \n",
       "14998   1.0  \n",
       "14999   NaN  \n",
       "\n",
       "[15000 rows x 9 columns]"
      ]
     },
     "execution_count": 16,
     "metadata": {},
     "output_type": "execute_result"
    }
   ],
   "source": [
    "df[df.notnull()]"
   ]
  },
  {
   "cell_type": "code",
   "execution_count": 12,
   "id": "a0327ba3",
   "metadata": {},
   "outputs": [],
   "source": [
    "df = df[:14998]"
   ]
  },
  {
   "cell_type": "markdown",
   "id": "4666ca1f",
   "metadata": {},
   "source": [
    "#### Alterando os tipos de dados."
   ]
  },
  {
   "cell_type": "code",
   "execution_count": 13,
   "id": "c5c33095",
   "metadata": {},
   "outputs": [],
   "source": [
    "df[\"number_projects\"] = df[\"number_projects\"].astype(int)\n",
    "df[\"mean_work_last_3_months\"] = df[\"mean_work_last_3_months\"].astype(int)\n",
    "df[\"time_in_company\"] = df[\"time_in_company\"].astype(int)\n",
    "df[\"work_accident\"] = df[\"work_accident\"].astype(int)\n",
    "df[\"left\"] = df[\"left\"].astype(int)"
   ]
  },
  {
   "cell_type": "code",
   "execution_count": 19,
   "id": "13db6f3b",
   "metadata": {},
   "outputs": [
    {
     "name": "stdout",
     "output_type": "stream",
     "text": [
      "<class 'pandas.core.frame.DataFrame'>\n",
      "RangeIndex: 14998 entries, 0 to 14997\n",
      "Data columns (total 9 columns):\n",
      " #   Column                   Non-Null Count  Dtype  \n",
      "---  ------                   --------------  -----  \n",
      " 0   department               14998 non-null  object \n",
      " 1   salary                   14998 non-null  object \n",
      " 2   mean_work_last_3_months  14998 non-null  int32  \n",
      " 3   number_projects          14998 non-null  int32  \n",
      " 4   satisfaction_level       14998 non-null  float64\n",
      " 5   last_evaluation          14998 non-null  float64\n",
      " 6   time_in_company          14998 non-null  int32  \n",
      " 7   work_accident            14998 non-null  int32  \n",
      " 8   left                     14998 non-null  int32  \n",
      "dtypes: float64(2), int32(5), object(2)\n",
      "memory usage: 761.7+ KB\n"
     ]
    }
   ],
   "source": [
    "df.info()"
   ]
  },
  {
   "cell_type": "code",
   "execution_count": 20,
   "id": "e00776d0",
   "metadata": {},
   "outputs": [
    {
     "data": {
      "text/html": [
       "<div>\n",
       "<style scoped>\n",
       "    .dataframe tbody tr th:only-of-type {\n",
       "        vertical-align: middle;\n",
       "    }\n",
       "\n",
       "    .dataframe tbody tr th {\n",
       "        vertical-align: top;\n",
       "    }\n",
       "\n",
       "    .dataframe thead th {\n",
       "        text-align: right;\n",
       "    }\n",
       "</style>\n",
       "<table border=\"1\" class=\"dataframe\">\n",
       "  <thead>\n",
       "    <tr style=\"text-align: right;\">\n",
       "      <th></th>\n",
       "      <th>department</th>\n",
       "      <th>salary</th>\n",
       "      <th>mean_work_last_3_months</th>\n",
       "      <th>number_projects</th>\n",
       "      <th>satisfaction_level</th>\n",
       "      <th>last_evaluation</th>\n",
       "      <th>time_in_company</th>\n",
       "      <th>work_accident</th>\n",
       "      <th>left</th>\n",
       "    </tr>\n",
       "  </thead>\n",
       "  <tbody>\n",
       "    <tr>\n",
       "      <th>0</th>\n",
       "      <td>sales</td>\n",
       "      <td>low</td>\n",
       "      <td>266</td>\n",
       "      <td>2</td>\n",
       "      <td>38.0</td>\n",
       "      <td>53.0</td>\n",
       "      <td>3</td>\n",
       "      <td>0</td>\n",
       "      <td>1</td>\n",
       "    </tr>\n",
       "    <tr>\n",
       "      <th>1</th>\n",
       "      <td>sales</td>\n",
       "      <td>medium</td>\n",
       "      <td>252</td>\n",
       "      <td>5</td>\n",
       "      <td>80.0</td>\n",
       "      <td>86.0</td>\n",
       "      <td>6</td>\n",
       "      <td>0</td>\n",
       "      <td>1</td>\n",
       "    </tr>\n",
       "    <tr>\n",
       "      <th>2</th>\n",
       "      <td>sales</td>\n",
       "      <td>medium</td>\n",
       "      <td>289</td>\n",
       "      <td>7</td>\n",
       "      <td>11.0</td>\n",
       "      <td>88.0</td>\n",
       "      <td>4</td>\n",
       "      <td>0</td>\n",
       "      <td>1</td>\n",
       "    </tr>\n",
       "    <tr>\n",
       "      <th>3</th>\n",
       "      <td>sales</td>\n",
       "      <td>low</td>\n",
       "      <td>275</td>\n",
       "      <td>5</td>\n",
       "      <td>72.0</td>\n",
       "      <td>87.0</td>\n",
       "      <td>5</td>\n",
       "      <td>0</td>\n",
       "      <td>1</td>\n",
       "    </tr>\n",
       "    <tr>\n",
       "      <th>4</th>\n",
       "      <td>sales</td>\n",
       "      <td>low</td>\n",
       "      <td>292</td>\n",
       "      <td>2</td>\n",
       "      <td>37.0</td>\n",
       "      <td>52.0</td>\n",
       "      <td>3</td>\n",
       "      <td>0</td>\n",
       "      <td>1</td>\n",
       "    </tr>\n",
       "  </tbody>\n",
       "</table>\n",
       "</div>"
      ],
      "text/plain": [
       "  department  salary  mean_work_last_3_months  number_projects  \\\n",
       "0      sales     low                      266                2   \n",
       "1      sales  medium                      252                5   \n",
       "2      sales  medium                      289                7   \n",
       "3      sales     low                      275                5   \n",
       "4      sales     low                      292                2   \n",
       "\n",
       "   satisfaction_level  last_evaluation  time_in_company  work_accident  left  \n",
       "0                38.0             53.0                3              0     1  \n",
       "1                80.0             86.0                6              0     1  \n",
       "2                11.0             88.0                4              0     1  \n",
       "3                72.0             87.0                5              0     1  \n",
       "4                37.0             52.0                3              0     1  "
      ]
     },
     "execution_count": 20,
     "metadata": {},
     "output_type": "execute_result"
    }
   ],
   "source": [
    "df.head()"
   ]
  },
  {
   "cell_type": "code",
   "execution_count": 14,
   "id": "7484de02",
   "metadata": {},
   "outputs": [],
   "source": [
    "df = df[:14998]"
   ]
  },
  {
   "cell_type": "markdown",
   "id": "ed36cf60",
   "metadata": {},
   "source": [
    "#### Renomeando atributos"
   ]
  },
  {
   "cell_type": "code",
   "execution_count": 15,
   "id": "c872f4a2",
   "metadata": {},
   "outputs": [],
   "source": [
    "df = df.rename(columns={'satisfaction_level': 'satisfaction', \n",
    "                        'last_evaluation': 'evaluation',\n",
    "                        'number_projects': 'projectCount',\n",
    "                        'mean_work_last_3_months': 'averageMonthlyHours',\n",
    "                        'time_in_company': 'yearsAtCompany',\n",
    "                        'work_accident': 'workAccident',\n",
    "                        'left' : 'turnover'\n",
    "                        })"
   ]
  },
  {
   "cell_type": "code",
   "execution_count": 23,
   "id": "73fcc43b",
   "metadata": {
    "scrolled": true
   },
   "outputs": [
    {
     "data": {
      "text/html": [
       "<div>\n",
       "<style scoped>\n",
       "    .dataframe tbody tr th:only-of-type {\n",
       "        vertical-align: middle;\n",
       "    }\n",
       "\n",
       "    .dataframe tbody tr th {\n",
       "        vertical-align: top;\n",
       "    }\n",
       "\n",
       "    .dataframe thead th {\n",
       "        text-align: right;\n",
       "    }\n",
       "</style>\n",
       "<table border=\"1\" class=\"dataframe\">\n",
       "  <thead>\n",
       "    <tr style=\"text-align: right;\">\n",
       "      <th></th>\n",
       "      <th>department</th>\n",
       "      <th>salary</th>\n",
       "      <th>averageMonthlyHours</th>\n",
       "      <th>projectCount</th>\n",
       "      <th>satisfaction</th>\n",
       "      <th>evaluation</th>\n",
       "      <th>yearsAtCompany</th>\n",
       "      <th>workAccident</th>\n",
       "      <th>turnover</th>\n",
       "    </tr>\n",
       "  </thead>\n",
       "  <tbody>\n",
       "    <tr>\n",
       "      <th>0</th>\n",
       "      <td>sales</td>\n",
       "      <td>low</td>\n",
       "      <td>266</td>\n",
       "      <td>2</td>\n",
       "      <td>38.0</td>\n",
       "      <td>53.0</td>\n",
       "      <td>3</td>\n",
       "      <td>0</td>\n",
       "      <td>1</td>\n",
       "    </tr>\n",
       "    <tr>\n",
       "      <th>1</th>\n",
       "      <td>sales</td>\n",
       "      <td>medium</td>\n",
       "      <td>252</td>\n",
       "      <td>5</td>\n",
       "      <td>80.0</td>\n",
       "      <td>86.0</td>\n",
       "      <td>6</td>\n",
       "      <td>0</td>\n",
       "      <td>1</td>\n",
       "    </tr>\n",
       "    <tr>\n",
       "      <th>2</th>\n",
       "      <td>sales</td>\n",
       "      <td>medium</td>\n",
       "      <td>289</td>\n",
       "      <td>7</td>\n",
       "      <td>11.0</td>\n",
       "      <td>88.0</td>\n",
       "      <td>4</td>\n",
       "      <td>0</td>\n",
       "      <td>1</td>\n",
       "    </tr>\n",
       "    <tr>\n",
       "      <th>3</th>\n",
       "      <td>sales</td>\n",
       "      <td>low</td>\n",
       "      <td>275</td>\n",
       "      <td>5</td>\n",
       "      <td>72.0</td>\n",
       "      <td>87.0</td>\n",
       "      <td>5</td>\n",
       "      <td>0</td>\n",
       "      <td>1</td>\n",
       "    </tr>\n",
       "    <tr>\n",
       "      <th>4</th>\n",
       "      <td>sales</td>\n",
       "      <td>low</td>\n",
       "      <td>292</td>\n",
       "      <td>2</td>\n",
       "      <td>37.0</td>\n",
       "      <td>52.0</td>\n",
       "      <td>3</td>\n",
       "      <td>0</td>\n",
       "      <td>1</td>\n",
       "    </tr>\n",
       "  </tbody>\n",
       "</table>\n",
       "</div>"
      ],
      "text/plain": [
       "  department  salary  averageMonthlyHours  projectCount  satisfaction  \\\n",
       "0      sales     low                  266             2          38.0   \n",
       "1      sales  medium                  252             5          80.0   \n",
       "2      sales  medium                  289             7          11.0   \n",
       "3      sales     low                  275             5          72.0   \n",
       "4      sales     low                  292             2          37.0   \n",
       "\n",
       "   evaluation  yearsAtCompany  workAccident  turnover  \n",
       "0        53.0               3             0         1  \n",
       "1        86.0               6             0         1  \n",
       "2        88.0               4             0         1  \n",
       "3        87.0               5             0         1  \n",
       "4        52.0               3             0         1  "
      ]
     },
     "execution_count": 23,
     "metadata": {},
     "output_type": "execute_result"
    }
   ],
   "source": [
    "df.head()"
   ]
  },
  {
   "cell_type": "markdown",
   "id": "872acec8",
   "metadata": {},
   "source": [
    "###  Importancia de Features"
   ]
  },
  {
   "cell_type": "markdown",
   "id": "89f8bbd1",
   "metadata": {},
   "source": [
    "#### Converte os atributos categoricos valores numéricos."
   ]
  },
  {
   "cell_type": "code",
   "execution_count": 16,
   "id": "b29d561f",
   "metadata": {},
   "outputs": [],
   "source": [
    "df[\"department\"] = df[\"department\"].astype('category').cat.codes\n",
    "df[\"salary\"] = df[\"salary\"].astype('category').cat.codes"
   ]
  },
  {
   "cell_type": "code",
   "execution_count": 25,
   "id": "adbf6e11",
   "metadata": {},
   "outputs": [
    {
     "data": {
      "text/html": [
       "<div>\n",
       "<style scoped>\n",
       "    .dataframe tbody tr th:only-of-type {\n",
       "        vertical-align: middle;\n",
       "    }\n",
       "\n",
       "    .dataframe tbody tr th {\n",
       "        vertical-align: top;\n",
       "    }\n",
       "\n",
       "    .dataframe thead th {\n",
       "        text-align: right;\n",
       "    }\n",
       "</style>\n",
       "<table border=\"1\" class=\"dataframe\">\n",
       "  <thead>\n",
       "    <tr style=\"text-align: right;\">\n",
       "      <th></th>\n",
       "      <th>department</th>\n",
       "      <th>salary</th>\n",
       "      <th>averageMonthlyHours</th>\n",
       "      <th>projectCount</th>\n",
       "      <th>satisfaction</th>\n",
       "      <th>evaluation</th>\n",
       "      <th>yearsAtCompany</th>\n",
       "      <th>workAccident</th>\n",
       "      <th>turnover</th>\n",
       "    </tr>\n",
       "  </thead>\n",
       "  <tbody>\n",
       "    <tr>\n",
       "      <th>0</th>\n",
       "      <td>7</td>\n",
       "      <td>1</td>\n",
       "      <td>266</td>\n",
       "      <td>2</td>\n",
       "      <td>38.0</td>\n",
       "      <td>53.0</td>\n",
       "      <td>3</td>\n",
       "      <td>0</td>\n",
       "      <td>1</td>\n",
       "    </tr>\n",
       "    <tr>\n",
       "      <th>1</th>\n",
       "      <td>7</td>\n",
       "      <td>2</td>\n",
       "      <td>252</td>\n",
       "      <td>5</td>\n",
       "      <td>80.0</td>\n",
       "      <td>86.0</td>\n",
       "      <td>6</td>\n",
       "      <td>0</td>\n",
       "      <td>1</td>\n",
       "    </tr>\n",
       "    <tr>\n",
       "      <th>2</th>\n",
       "      <td>7</td>\n",
       "      <td>2</td>\n",
       "      <td>289</td>\n",
       "      <td>7</td>\n",
       "      <td>11.0</td>\n",
       "      <td>88.0</td>\n",
       "      <td>4</td>\n",
       "      <td>0</td>\n",
       "      <td>1</td>\n",
       "    </tr>\n",
       "    <tr>\n",
       "      <th>3</th>\n",
       "      <td>7</td>\n",
       "      <td>1</td>\n",
       "      <td>275</td>\n",
       "      <td>5</td>\n",
       "      <td>72.0</td>\n",
       "      <td>87.0</td>\n",
       "      <td>5</td>\n",
       "      <td>0</td>\n",
       "      <td>1</td>\n",
       "    </tr>\n",
       "    <tr>\n",
       "      <th>4</th>\n",
       "      <td>7</td>\n",
       "      <td>1</td>\n",
       "      <td>292</td>\n",
       "      <td>2</td>\n",
       "      <td>37.0</td>\n",
       "      <td>52.0</td>\n",
       "      <td>3</td>\n",
       "      <td>0</td>\n",
       "      <td>1</td>\n",
       "    </tr>\n",
       "  </tbody>\n",
       "</table>\n",
       "</div>"
      ],
      "text/plain": [
       "   department  salary  averageMonthlyHours  projectCount  satisfaction  \\\n",
       "0           7       1                  266             2          38.0   \n",
       "1           7       2                  252             5          80.0   \n",
       "2           7       2                  289             7          11.0   \n",
       "3           7       1                  275             5          72.0   \n",
       "4           7       1                  292             2          37.0   \n",
       "\n",
       "   evaluation  yearsAtCompany  workAccident  turnover  \n",
       "0        53.0               3             0         1  \n",
       "1        86.0               6             0         1  \n",
       "2        88.0               4             0         1  \n",
       "3        87.0               5             0         1  \n",
       "4        52.0               3             0         1  "
      ]
     },
     "execution_count": 25,
     "metadata": {},
     "output_type": "execute_result"
    }
   ],
   "source": [
    "df.head()"
   ]
  },
  {
   "cell_type": "markdown",
   "id": "52b3cce4",
   "metadata": {},
   "source": [
    "#### Separando os conjuntos de dados."
   ]
  },
  {
   "cell_type": "code",
   "execution_count": 17,
   "id": "c6b32f27",
   "metadata": {},
   "outputs": [],
   "source": [
    "target_name = 'turnover'\n",
    "X = df.drop('turnover', axis=1)\n",
    "y = df[target_name]"
   ]
  },
  {
   "cell_type": "markdown",
   "id": "90e7a42a",
   "metadata": {},
   "source": [
    "#### Transformando os dados."
   ]
  },
  {
   "cell_type": "code",
   "execution_count": 18,
   "id": "5473aaac",
   "metadata": {},
   "outputs": [],
   "source": [
    "from sklearn.preprocessing import MinMaxScaler"
   ]
  },
  {
   "cell_type": "code",
   "execution_count": 19,
   "id": "05338aa8",
   "metadata": {},
   "outputs": [],
   "source": [
    "scaler = MinMaxScaler()"
   ]
  },
  {
   "cell_type": "code",
   "execution_count": 20,
   "id": "c71672e4",
   "metadata": {},
   "outputs": [],
   "source": [
    "X = scaler.fit_transform(X)"
   ]
  },
  {
   "cell_type": "code",
   "execution_count": 21,
   "id": "ee1df7bb",
   "metadata": {},
   "outputs": [
    {
     "data": {
      "text/plain": [
       "array([[0.77777778, 0.5       , 0.38202247, ..., 0.265625  , 0.125     ,\n",
       "        0.        ],\n",
       "       [0.77777778, 1.        , 0.2247191 , ..., 0.78125   , 0.5       ,\n",
       "        0.        ],\n",
       "       [0.77777778, 1.        , 0.64044944, ..., 0.8125    , 0.25      ,\n",
       "        0.        ],\n",
       "       ...,\n",
       "       [1.        , 0.5       , 0.23595506, ..., 0.1875    , 0.125     ,\n",
       "        0.        ],\n",
       "       [1.        , 1.        , 0.62921348, ..., 0.265625  , 0.125     ,\n",
       "        0.        ],\n",
       "       [0.88888889, 0.5       , 0.4494382 , ..., 0.9375    , 0.25      ,\n",
       "        0.        ]])"
      ]
     },
     "execution_count": 21,
     "metadata": {},
     "output_type": "execute_result"
    }
   ],
   "source": [
    "X"
   ]
  },
  {
   "cell_type": "markdown",
   "id": "ac10064a",
   "metadata": {},
   "source": [
    "#### Separando os conjuntos."
   ]
  },
  {
   "cell_type": "code",
   "execution_count": 22,
   "id": "9279d47b",
   "metadata": {},
   "outputs": [],
   "source": [
    "from sklearn.model_selection import train_test_split"
   ]
  },
  {
   "cell_type": "code",
   "execution_count": 23,
   "id": "7d0533f1",
   "metadata": {},
   "outputs": [],
   "source": [
    "X_train, X_test, y_train, y_test = train_test_split(\n",
    "        X\n",
    "       ,y\n",
    "       ,test_size = 0.2\n",
    "       ,random_state = 123\n",
    "       ,stratify = y\n",
    ")"
   ]
  },
  {
   "cell_type": "markdown",
   "id": "8645d631",
   "metadata": {},
   "source": [
    "#### Treinando o algoritmo de arvore de decisão."
   ]
  },
  {
   "cell_type": "code",
   "execution_count": 24,
   "id": "4c3f9b98",
   "metadata": {},
   "outputs": [],
   "source": [
    "from sklearn.tree import DecisionTreeClassifier"
   ]
  },
  {
   "cell_type": "code",
   "execution_count": 25,
   "id": "14e497df",
   "metadata": {},
   "outputs": [],
   "source": [
    "dtree = DecisionTreeClassifier()\n",
    "dtree = dtree.fit(X_train,y_train)"
   ]
  },
  {
   "cell_type": "code",
   "execution_count": 26,
   "id": "23fc60d3",
   "metadata": {},
   "outputs": [],
   "source": [
    "importances = dtree.feature_importances_\n",
    "feat_names = df.drop(['turnover'],axis=1).columns"
   ]
  },
  {
   "cell_type": "code",
   "execution_count": 27,
   "id": "103bbd83",
   "metadata": {},
   "outputs": [
    {
     "data": {
      "image/png": "[encoded data removed]",
      "text/plain": [
       "<Figure size 864x288 with 1 Axes>"
      ]
     },
     "metadata": {
      "needs_background": "light"
     },
     "output_type": "display_data"
    }
   ],
   "source": [
    "indices = np.argsort(importances)[::-1]\n",
    "plt.figure(figsize=(12,4))\n",
    "plt.title(\"Feature importances by DecisionTreeClassifier\")\n",
    "plt.bar(range(len(indices)), importances[indices], color='lightblue',  align=\"center\")\n",
    "plt.xticks(range(len(indices)), feat_names[indices], rotation='vertical',fontsize=14)\n",
    "plt.xlim([-1, len(indices)])\n",
    "plt.show()"
   ]
  },
  {
   "cell_type": "markdown",
   "id": "237a5951",
   "metadata": {},
   "source": [
    "#### Filtrando apenas os atributos relevantes."
   ]
  },
  {
   "cell_type": "code",
   "execution_count": 28,
   "id": "3724cca6",
   "metadata": {},
   "outputs": [],
   "source": [
    "X = df[[\"satisfaction\",\"evaluation\",\"averageMonthlyHours\",\"yearsAtCompany\"]]"
   ]
  },
  {
   "cell_type": "markdown",
   "id": "15ee0d93",
   "metadata": {},
   "source": [
    "#### Separando os conjuntos de dados."
   ]
  },
  {
   "cell_type": "code",
   "execution_count": 29,
   "id": "304f8a98",
   "metadata": {},
   "outputs": [],
   "source": [
    "scaler = MinMaxScaler()"
   ]
  },
  {
   "cell_type": "code",
   "execution_count": 30,
   "id": "df5e3b5e",
   "metadata": {},
   "outputs": [],
   "source": [
    "X = scaler.fit_transform(X)"
   ]
  },
  {
   "cell_type": "code",
   "execution_count": 31,
   "id": "f3f18701",
   "metadata": {},
   "outputs": [],
   "source": [
    "X_train, X_test, y_train, y_test = train_test_split(\n",
    "        X\n",
    "       ,y\n",
    "       ,test_size = 0.2\n",
    "       ,random_state = 123\n",
    "       ,stratify = y\n",
    ")"
   ]
  },
  {
   "cell_type": "code",
   "execution_count": 32,
   "id": "85cc51b9",
   "metadata": {},
   "outputs": [
    {
     "data": {
      "text/plain": [
       "array([[0.59340659, 0.21875   , 0.40449438, 0.125     ],\n",
       "       [0.        , 0.703125  , 0.41573034, 0.25      ],\n",
       "       [0.3956044 , 0.28125   , 0.58426966, 0.125     ],\n",
       "       ...,\n",
       "       [0.32967033, 0.3125    , 0.59550562, 0.125     ],\n",
       "       [0.92307692, 0.28125   , 0.46067416, 0.        ],\n",
       "       [0.51648352, 0.5       , 0.53932584, 0.125     ]])"
      ]
     },
     "execution_count": 32,
     "metadata": {},
     "output_type": "execute_result"
    }
   ],
   "source": [
    "X_train"
   ]
  },
  {
   "cell_type": "markdown",
   "id": "ed014488",
   "metadata": {},
   "source": [
    "#### Função do modelo de base."
   ]
  },
  {
   "cell_type": "code",
   "execution_count": 33,
   "id": "7bf5439a",
   "metadata": {},
   "outputs": [],
   "source": [
    "def base_rate_model(X) :\n",
    "    y = np.zeros(X.shape[0])\n",
    "    return y"
   ]
  },
  {
   "cell_type": "markdown",
   "id": "b87206cf",
   "metadata": {},
   "source": [
    "#### Importando métodos de métrica de avaliação."
   ]
  },
  {
   "cell_type": "code",
   "execution_count": 34,
   "id": "63b81891",
   "metadata": {},
   "outputs": [],
   "source": [
    "from sklearn.metrics import roc_auc_score\n",
    "from sklearn.metrics import accuracy_score\n",
    "from sklearn.metrics import classification_report"
   ]
  },
  {
   "cell_type": "code",
   "execution_count": 35,
   "id": "fdcf77e0",
   "metadata": {},
   "outputs": [],
   "source": [
    "def accuracy_result(y_test,y_predict):\n",
    "    acc = accuracy_score(y_test, y_predict)\n",
    "    print (\"Accuracy = %2.2f\" % acc)"
   ]
  },
  {
   "cell_type": "code",
   "execution_count": 36,
   "id": "59755452",
   "metadata": {},
   "outputs": [],
   "source": [
    "def roc_classification_report_results(model,y_test,y_predict):\n",
    "    roc_ = roc_auc_score(y_test, y_predict)\n",
    "    classfication_report = classification_report(y_test, y_predict)\n",
    "    \n",
    "    print (\"\\n{} AUC = {}\\n\".format(model, roc_))\n",
    "    print(classfication_report)"
   ]
  },
  {
   "cell_type": "markdown",
   "id": "b2895535",
   "metadata": {},
   "source": [
    "#### Análise do modelo de baseline"
   ]
  },
  {
   "cell_type": "code",
   "execution_count": 37,
   "id": "2cf02e1c",
   "metadata": {},
   "outputs": [],
   "source": [
    "y_predict = base_rate_model(X_test)"
   ]
  },
  {
   "cell_type": "code",
   "execution_count": 38,
   "id": "5b52a611",
   "metadata": {},
   "outputs": [
    {
     "name": "stdout",
     "output_type": "stream",
     "text": [
      "Accuracy = 0.76\n"
     ]
    }
   ],
   "source": [
    "accuracy_result(y_test, y_predict)"
   ]
  },
  {
   "cell_type": "code",
   "execution_count": 39,
   "id": "70fbc873",
   "metadata": {},
   "outputs": [
    {
     "name": "stdout",
     "output_type": "stream",
     "text": [
      "\n",
      "Base Model AUC = 0.5\n",
      "\n",
      "              precision    recall  f1-score   support\n",
      "\n",
      "           0       0.76      1.00      0.86      2286\n",
      "           1       0.00      0.00      0.00       714\n",
      "\n",
      "    accuracy                           0.76      3000\n",
      "   macro avg       0.38      0.50      0.43      3000\n",
      "weighted avg       0.58      0.76      0.66      3000\n",
      "\n"
     ]
    },
    {
     "name": "stderr",
     "output_type": "stream",
     "text": [
      "C:\\Users\\User\\anaconda3\\envs\\pedro\\lib\\site-packages\\sklearn\\metrics\\_classification.py:1221: UndefinedMetricWarning: Precision and F-score are ill-defined and being set to 0.0 in labels with no predicted samples. Use `zero_division` parameter to control this behavior.\n",
      "  _warn_prf(average, modifier, msg_start, len(result))\n"
     ]
    }
   ],
   "source": [
    "roc_classification_report_results(\"Base Model\", y_test, y_predict)"
   ]
  },
  {
   "cell_type": "markdown",
   "id": "02f30fe7",
   "metadata": {},
   "source": [
    "### Modelo de Regressão Logística."
   ]
  },
  {
   "cell_type": "markdown",
   "id": "bef77f48",
   "metadata": {},
   "source": [
    "#### Instânciando o algoritmo."
   ]
  },
  {
   "cell_type": "code",
   "execution_count": 40,
   "id": "5346b765",
   "metadata": {},
   "outputs": [],
   "source": [
    "from sklearn.linear_model import LogisticRegression\n",
    "logis = LogisticRegression()"
   ]
  },
  {
   "cell_type": "markdown",
   "id": "3c44b07a",
   "metadata": {},
   "source": [
    "#### Realizando o treinamento."
   ]
  },
  {
   "cell_type": "code",
   "execution_count": 41,
   "id": "cb0bd1d5",
   "metadata": {
    "scrolled": true
   },
   "outputs": [
    {
     "data": {
      "text/plain": [
       "LogisticRegression()"
      ]
     },
     "execution_count": 41,
     "metadata": {},
     "output_type": "execute_result"
    }
   ],
   "source": [
    "logis.fit(X_train, y_train)"
   ]
  },
  {
   "cell_type": "markdown",
   "id": "e8de4b37",
   "metadata": {},
   "source": [
    "#### Calculando as predições."
   ]
  },
  {
   "cell_type": "code",
   "execution_count": 42,
   "id": "4077f87b",
   "metadata": {},
   "outputs": [],
   "source": [
    "y_predict = logis.predict(X_test)"
   ]
  },
  {
   "cell_type": "markdown",
   "id": "ecb8b4fc",
   "metadata": {},
   "source": [
    "#### Avaliando o resultado."
   ]
  },
  {
   "cell_type": "code",
   "execution_count": 43,
   "id": "f6c2c0f2",
   "metadata": {},
   "outputs": [
    {
     "name": "stdout",
     "output_type": "stream",
     "text": [
      "Accuracy = 0.77\n"
     ]
    }
   ],
   "source": [
    "accuracy_result(y_test, y_predict)"
   ]
  },
  {
   "cell_type": "code",
   "execution_count": 44,
   "id": "d63b619a",
   "metadata": {},
   "outputs": [
    {
     "name": "stdout",
     "output_type": "stream",
     "text": [
      "\n",
      "Logistic Regression AUC = 0.5406235985207731\n",
      "\n",
      "              precision    recall  f1-score   support\n",
      "\n",
      "           0       0.78      0.97      0.86      2286\n",
      "           1       0.55      0.11      0.18       714\n",
      "\n",
      "    accuracy                           0.77      3000\n",
      "   macro avg       0.66      0.54      0.52      3000\n",
      "weighted avg       0.72      0.77      0.70      3000\n",
      "\n"
     ]
    }
   ],
   "source": [
    "roc_classification_report_results(\"Logistic Regression\", y_test, y_predict)"
   ]
  },
  {
   "cell_type": "markdown",
   "id": "a1f22cf4",
   "metadata": {},
   "source": [
    "### Modelo de Arvore de decisão."
   ]
  },
  {
   "cell_type": "markdown",
   "id": "ffc5df27",
   "metadata": {},
   "source": [
    "#### Instânciando o algoritmo."
   ]
  },
  {
   "cell_type": "code",
   "execution_count": 45,
   "id": "fa171475",
   "metadata": {},
   "outputs": [],
   "source": [
    "from sklearn.tree import DecisionTreeClassifier\n",
    "dtree = DecisionTreeClassifier()"
   ]
  },
  {
   "cell_type": "markdown",
   "id": "d54b6008",
   "metadata": {},
   "source": [
    "#### Realizando o treinamento."
   ]
  },
  {
   "cell_type": "code",
   "execution_count": 46,
   "id": "f3066d39",
   "metadata": {
    "scrolled": true
   },
   "outputs": [],
   "source": [
    "dtree = dtree.fit(X_train,y_train)"
   ]
  },
  {
   "cell_type": "markdown",
   "id": "8ce07a40",
   "metadata": {},
   "source": [
    "#### Calculando as predições."
   ]
  },
  {
   "cell_type": "code",
   "execution_count": 47,
   "id": "8f0c708c",
   "metadata": {},
   "outputs": [],
   "source": [
    "y_predict = dtree.predict(X_test)"
   ]
  },
  {
   "cell_type": "markdown",
   "id": "f46d58af",
   "metadata": {},
   "source": [
    "#### Avaliando o resultado."
   ]
  },
  {
   "cell_type": "code",
   "execution_count": 48,
   "id": "8e1de905",
   "metadata": {},
   "outputs": [
    {
     "name": "stdout",
     "output_type": "stream",
     "text": [
      "Accuracy = 0.75\n"
     ]
    }
   ],
   "source": [
    "accuracy_result(y_test, y_predict)"
   ]
  },
  {
   "cell_type": "code",
   "execution_count": 49,
   "id": "d772ccee",
   "metadata": {},
   "outputs": [
    {
     "name": "stdout",
     "output_type": "stream",
     "text": [
      "\n",
      "Decision Tree AUC = 0.6675452333164237\n",
      "\n",
      "              precision    recall  f1-score   support\n",
      "\n",
      "           0       0.84      0.82      0.83      2286\n",
      "           1       0.47      0.51      0.49       714\n",
      "\n",
      "    accuracy                           0.75      3000\n",
      "   macro avg       0.66      0.67      0.66      3000\n",
      "weighted avg       0.76      0.75      0.75      3000\n",
      "\n"
     ]
    }
   ],
   "source": [
    "roc_classification_report_results(\"Decision Tree\", y_test, y_predict)"
   ]
  },
  {
   "cell_type": "markdown",
   "id": "4e1c3912",
   "metadata": {},
   "source": [
    "### Modelo de Arvore Aleatória (Random Forest)"
   ]
  },
  {
   "cell_type": "markdown",
   "id": "09ac2c9c",
   "metadata": {},
   "source": [
    "#### Instânciando o algoritmo."
   ]
  },
  {
   "cell_type": "code",
   "execution_count": 50,
   "id": "4c455c5b",
   "metadata": {},
   "outputs": [],
   "source": [
    "from sklearn.ensemble import RandomForestClassifier"
   ]
  },
  {
   "cell_type": "code",
   "execution_count": 51,
   "id": "590f7eae",
   "metadata": {},
   "outputs": [],
   "source": [
    "rf = RandomForestClassifier()"
   ]
  },
  {
   "cell_type": "markdown",
   "id": "8158e0ea",
   "metadata": {},
   "source": [
    "#### Realizando o treinamento."
   ]
  },
  {
   "cell_type": "code",
   "execution_count": 52,
   "id": "dfd944ed",
   "metadata": {
    "scrolled": true
   },
   "outputs": [],
   "source": [
    "rf = rf.fit(X_train,y_train)"
   ]
  },
  {
   "cell_type": "markdown",
   "id": "ec43bbf4",
   "metadata": {},
   "source": [
    "#### Calculando as predições."
   ]
  },
  {
   "cell_type": "code",
   "execution_count": 53,
   "id": "454fcb09",
   "metadata": {},
   "outputs": [],
   "source": [
    "y_predict = rf.predict(X_test)"
   ]
  },
  {
   "cell_type": "markdown",
   "id": "4ace03d6",
   "metadata": {},
   "source": [
    "#### Avaliando o resultado."
   ]
  },
  {
   "cell_type": "code",
   "execution_count": 54,
   "id": "1d452cd6",
   "metadata": {},
   "outputs": [
    {
     "name": "stdout",
     "output_type": "stream",
     "text": [
      "Accuracy = 0.83\n"
     ]
    }
   ],
   "source": [
    "accuracy_result(y_test, y_predict)"
   ]
  },
  {
   "cell_type": "code",
   "execution_count": 55,
   "id": "b5a5ebc8",
   "metadata": {},
   "outputs": [
    {
     "name": "stdout",
     "output_type": "stream",
     "text": [
      "\n",
      "Random Forest AUC = 0.724021629649235\n",
      "\n",
      "              precision    recall  f1-score   support\n",
      "\n",
      "           0       0.86      0.93      0.89      2286\n",
      "           1       0.69      0.52      0.59       714\n",
      "\n",
      "    accuracy                           0.83      3000\n",
      "   macro avg       0.77      0.72      0.74      3000\n",
      "weighted avg       0.82      0.83      0.82      3000\n",
      "\n"
     ]
    }
   ],
   "source": [
    "roc_classification_report_results(\"Random Forest\", y_test, y_predict)"
   ]
  },
  {
   "cell_type": "markdown",
   "id": "529c1788",
   "metadata": {},
   "source": [
    "### Pycaret"
   ]
  },
  {
   "cell_type": "markdown",
   "id": "0a7225b2",
   "metadata": {},
   "source": [
    "#### Importando os métodos."
   ]
  },
  {
   "cell_type": "code",
   "execution_count": 67,
   "id": "14d14d74",
   "metadata": {},
   "outputs": [
    {
     "name": "stdout",
     "output_type": "stream",
     "text": [
      "Collecting pycaret\n",
      "  Using cached pycaret-2.3.6-py3-none-any.whl (301 kB)\n",
      "Collecting mlxtend>=0.17.0\n",
      "  Using cached mlxtend-0.19.0-py2.py3-none-any.whl (1.3 MB)\n",
      "Collecting plotly>=4.4.1\n",
      "  Using cached plotly-5.5.0-py2.py3-none-any.whl (26.5 MB)\n",
      "Collecting gensim<4.0.0\n",
      "  Using cached gensim-3.8.3.tar.gz (23.4 MB)\n",
      "  Preparing metadata (setup.py): started\n",
      "  Preparing metadata (setup.py): finished with status 'done'\n",
      "Collecting nltk\n",
      "  Downloading nltk-3.6.7-py3-none-any.whl (1.5 MB)\n",
      "     ---------------------------------------- 1.5/1.5 MB 3.7 MB/s eta 0:00:00\n",
      "Collecting umap-learn\n",
      "  Using cached umap-learn-0.5.2.tar.gz (86 kB)\n",
      "  Preparing metadata (setup.py): started\n",
      "  Preparing metadata (setup.py): finished with status 'done'\n",
      "Collecting scikit-plot\n",
      "  Using cached scikit_plot-0.3.7-py3-none-any.whl (33 kB)\n",
      "Collecting ipywidgets\n",
      "  Downloading ipywidgets-7.6.5-py2.py3-none-any.whl (121 kB)\n",
      "     -------------------------------------- 121.8/121.8 KB 2.4 MB/s eta 0:00:00\n",
      "Collecting imbalanced-learn==0.7.0\n",
      "  Using cached imbalanced_learn-0.7.0-py3-none-any.whl (167 kB)\n",
      "Collecting kmodes>=0.10.1\n",
      "  Using cached kmodes-0.11.1-py2.py3-none-any.whl (19 kB)"
     ]
    },
    {
     "name": "stderr",
     "output_type": "stream",
     "text": [
      "  error: subprocess-exited-with-error\n",
      "  \n",
      "  pip subprocess to install build dependencies did not run successfully.\n",
      "  exit code: 1\n",
      "  \n",
      "  [316 lines of output]\n",
      "  Ignoring numpy: markers 'python_version == \"3.6\" and platform_system != \"AIX\"' don't match your environment\n",
      "  Ignoring numpy: markers 'python_version == \"3.7\" and platform_system != \"AIX\"' don't match your environment\n",
      "  Ignoring numpy: markers 'python_version == \"3.6\" and platform_system == \"AIX\"' don't match your environment\n",
      "  Ignoring numpy: markers 'python_version == \"3.7\" and platform_system == \"AIX\"' don't match your environment\n",
      "  Ignoring numpy: markers 'python_version >= \"3.8\" and platform_system == \"AIX\"' don't match your environment\n",
      "  Collecting wheel\n",
      "    Using cached wheel-0.37.1-py2.py3-none-any.whl (35 kB)\n",
      "  Collecting setuptools\n",
      "    Using cached setuptools-60.7.1-py3-none-any.whl (1.0 MB)\n",
      "  Collecting Cython>=0.29.18\n",
      "    Using cached Cython-0.29.27-py2.py3-none-any.whl (983 kB)\n",
      "  Collecting numpy==1.17.3\n",
      "    Using cached numpy-1.17.3.zip (6.4 MB)\n",
      "    Preparing metadata (setup.py): started\n",
      "    Preparing metadata (setup.py): finished with status 'done'\n",
      "  Collecting pybind11>=2.4.3\n",
      "    Downloading pybind11-2.9.1-py2.py3-none-any.whl (211 kB)\n",
      "       ------------------------------------ 211.3/211.3 KB 859.3 kB/s eta 0:00:00\n",
      "  Using legacy 'setup.py install' for numpy, since package 'wheel' is not installed.\n",
      "  Installing collected packages: wheel, setuptools, pybind11, numpy, Cython\n",
      "    Running setup.py install for numpy: started\n",
      "    Running setup.py install for numpy: finished with status 'error'\n",
      "    error: subprocess-exited-with-error\n",
      "  \n",
      "    Running setup.py install for numpy did not run successfully.\n",
      "    exit code: 1\n",
      "  \n",
      "    [277 lines of output]\n",
      "    Running from numpy source directory.\n",
      "  \n",
      "    Note: if you need reliable uninstall behavior, then install\n",
      "    with pip instead of using `setup.py install`:\n",
      "  \n",
      "      - `pip install .`       (from a git repo or downloaded source\n",
      "                               release)\n",
      "      - `pip install numpy`   (last NumPy release on PyPi)\n",
      "  \n",
      "  \n",
      "    blas_opt_info:\n",
      "    blas_mkl_info:\n",
      "    No module named 'numpy.distutils._msvccompiler' in numpy.distutils; trying from distutils\n",
      "    customize MSVCCompiler\n",
      "      libraries mkl_rt not found in ['C:\\\\Users\\\\User\\\\AppData\\\\Local\\\\Programs\\\\Python\\\\Python310\\\\lib', 'C:\\\\', 'C:\\\\Users\\\\User\\\\AppData\\\\Local\\\\Programs\\\\Python\\\\Python310\\\\libs']\n",
      "      NOT AVAILABLE\n",
      "  \n",
      "    blis_info:\n",
      "    No module named 'numpy.distutils._msvccompiler' in numpy.distutils; trying from distutils\n",
      "    customize MSVCCompiler\n",
      "      libraries blis not found in ['C:\\\\Users\\\\User\\\\AppData\\\\Local\\\\Programs\\\\Python\\\\Python310\\\\lib', 'C:\\\\', 'C:\\\\Users\\\\User\\\\AppData\\\\Local\\\\Programs\\\\Python\\\\Python310\\\\libs']\n",
      "      NOT AVAILABLE\n",
      "  \n",
      "    openblas_info:\n",
      "    No module named 'numpy.distutils._msvccompiler' in numpy.distutils; trying from distutils\n",
      "    customize MSVCCompiler\n",
      "    No module named 'numpy.distutils._msvccompiler' in numpy.distutils; trying from distutils\n",
      "    customize MSVCCompiler\n",
      "      libraries openblas not found in ['C:\\\\Users\\\\User\\\\AppData\\\\Local\\\\Programs\\\\Python\\\\Python310\\\\lib', 'C:\\\\', 'C:\\\\Users\\\\User\\\\AppData\\\\Local\\\\Programs\\\\Python\\\\Python310\\\\libs']\n",
      "    get_default_fcompiler: matching types: '['gnu', 'intelv', 'absoft', 'compaqv', 'intelev', 'gnu95', 'g95', 'intelvem', 'intelem', 'flang']'\n",
      "    customize GnuFCompiler\n",
      "    Could not locate executable g77\n",
      "    Could not locate executable f77\n",
      "    customize IntelVisualFCompiler\n",
      "    Could not locate executable ifort\n",
      "    Could not locate executable ifl\n",
      "    customize AbsoftFCompiler\n",
      "    Could not locate executable f90\n",
      "    customize CompaqVisualFCompiler\n"
     ]
    },
    {
     "name": "stdout",
     "output_type": "stream",
     "text": [
      "\n",
      "Requirement already satisfied: joblib in c:\\users\\user\\appdata\\local\\programs\\python\\python310\\lib\\site-packages (from pycaret) (1.1.0)\n",
      "Collecting Boruta\n",
      "  Using cached Boruta-0.3-py3-none-any.whl (56 kB)\n",
      "Requirement already satisfied: IPython in c:\\users\\user\\appdata\\local\\programs\\python\\python310\\lib\\site-packages (from pycaret) (8.0.1)\n",
      "Collecting scipy<=1.5.4\n",
      "  Downloading scipy-1.5.4.tar.gz (25.2 MB)\n",
      "     ---------------------------------------- 25.2/25.2 MB 2.3 MB/s eta 0:00:00\n",
      "  Installing build dependencies: started\n",
      "  Installing build dependencies: finished with status 'error'\n"
     ]
    },
    {
     "name": "stderr",
     "output_type": "stream",
     "text": [
      "    Could not locate executable DF\n",
      "    customize IntelItaniumVisualFCompiler\n",
      "    Could not locate executable efl\n",
      "    customize Gnu95FCompiler\n",
      "    Could not locate executable gfortran\n",
      "    Could not locate executable f95\n",
      "    customize G95FCompiler\n",
      "    Could not locate executable g95\n",
      "    customize IntelEM64VisualFCompiler\n",
      "    customize IntelEM64TFCompiler\n",
      "    Could not locate executable efort\n",
      "    Could not locate executable efc\n",
      "    customize PGroupFlangCompiler\n",
      "    Could not locate executable flang\n",
      "    don't know how to compile Fortran code on platform 'nt'\n",
      "      NOT AVAILABLE\n",
      "  \n",
      "    atlas_3_10_blas_threads_info:\n",
      "    Setting PTATLAS=ATLAS\n",
      "    No module named 'numpy.distutils._msvccompiler' in numpy.distutils; trying from distutils\n",
      "    customize MSVCCompiler\n",
      "      libraries tatlas not found in ['C:\\\\Users\\\\User\\\\AppData\\\\Local\\\\Programs\\\\Python\\\\Python310\\\\lib', 'C:\\\\', 'C:\\\\Users\\\\User\\\\AppData\\\\Local\\\\Programs\\\\Python\\\\Python310\\\\libs']\n",
      "      NOT AVAILABLE\n",
      "  \n",
      "    atlas_3_10_blas_info:\n",
      "    No module named 'numpy.distutils._msvccompiler' in numpy.distutils; trying from distutils\n",
      "    customize MSVCCompiler\n",
      "      libraries satlas not found in ['C:\\\\Users\\\\User\\\\AppData\\\\Local\\\\Programs\\\\Python\\\\Python310\\\\lib', 'C:\\\\', 'C:\\\\Users\\\\User\\\\AppData\\\\Local\\\\Programs\\\\Python\\\\Python310\\\\libs']\n",
      "      NOT AVAILABLE\n",
      "  \n",
      "    atlas_blas_threads_info:\n",
      "    Setting PTATLAS=ATLAS\n",
      "    No module named 'numpy.distutils._msvccompiler' in numpy.distutils; trying from distutils\n",
      "    customize MSVCCompiler\n",
      "      libraries ptf77blas,ptcblas,atlas not found in ['C:\\\\Users\\\\User\\\\AppData\\\\Local\\\\Programs\\\\Python\\\\Python310\\\\lib', 'C:\\\\', 'C:\\\\Users\\\\User\\\\AppData\\\\Local\\\\Programs\\\\Python\\\\Python310\\\\libs']\n",
      "      NOT AVAILABLE\n",
      "  \n",
      "    atlas_blas_info:\n",
      "    No module named 'numpy.distutils._msvccompiler' in numpy.distutils; trying from distutils\n",
      "    customize MSVCCompiler\n",
      "      libraries f77blas,cblas,atlas not found in ['C:\\\\Users\\\\User\\\\AppData\\\\Local\\\\Programs\\\\Python\\\\Python310\\\\lib', 'C:\\\\', 'C:\\\\Users\\\\User\\\\AppData\\\\Local\\\\Programs\\\\Python\\\\Python310\\\\libs']\n",
      "      NOT AVAILABLE\n",
      "  \n",
      "    accelerate_info:\n",
      "      NOT AVAILABLE\n",
      "  \n",
      "    C:\\Users\\User\\AppData\\Local\\Temp\\pip-install-ccjhce_8\\numpy_4aca21f610b3491487ee9e25b3889ff2\\numpy\\distutils\\system_info.py:690: UserWarning:\n",
      "        Optimized (vendor) Blas libraries are not found.\n",
      "        Falls back to netlib Blas library which has worse performance.\n",
      "        A better performance should be easily gained by switching\n",
      "        Blas library.\n",
      "      self.calc_info()\n",
      "    blas_info:\n",
      "    No module named 'numpy.distutils._msvccompiler' in numpy.distutils; trying from distutils\n",
      "    customize MSVCCompiler\n",
      "      libraries blas not found in ['C:\\\\Users\\\\User\\\\AppData\\\\Local\\\\Programs\\\\Python\\\\Python310\\\\lib', 'C:\\\\', 'C:\\\\Users\\\\User\\\\AppData\\\\Local\\\\Programs\\\\Python\\\\Python310\\\\libs']\n",
      "      NOT AVAILABLE\n",
      "  \n",
      "    C:\\Users\\User\\AppData\\Local\\Temp\\pip-install-ccjhce_8\\numpy_4aca21f610b3491487ee9e25b3889ff2\\numpy\\distutils\\system_info.py:690: UserWarning:\n",
      "        Blas (http://www.netlib.org/blas/) libraries not found.\n",
      "        Directories to search for the libraries can be specified in the\n",
      "        numpy/distutils/site.cfg file (section [blas]) or by setting\n",
      "        the BLAS environment variable.\n",
      "      self.calc_info()\n",
      "    blas_src_info:\n",
      "      NOT AVAILABLE\n",
      "  \n",
      "    C:\\Users\\User\\AppData\\Local\\Temp\\pip-install-ccjhce_8\\numpy_4aca21f610b3491487ee9e25b3889ff2\\numpy\\distutils\\system_info.py:690: UserWarning:\n",
      "        Blas (http://www.netlib.org/blas/) sources not found.\n",
      "        Directories to search for the sources can be specified in the\n",
      "        numpy/distutils/site.cfg file (section [blas_src]) or by setting\n",
      "        the BLAS_SRC environment variable.\n",
      "      self.calc_info()\n",
      "      NOT AVAILABLE\n",
      "  \n",
      "    'svnversion' nÆo ‚ reconhecido como um comando interno\n",
      "    ou externo, um programa oper vel ou um arquivo em lotes.\n",
      "    non-existing path in 'numpy\\\\distutils': 'site.cfg'\n",
      "    lapack_opt_info:\n",
      "    lapack_mkl_info:\n",
      "    No module named 'numpy.distutils._msvccompiler' in numpy.distutils; trying from distutils\n",
      "    customize MSVCCompiler\n",
      "      libraries mkl_rt not found in ['C:\\\\Users\\\\User\\\\AppData\\\\Local\\\\Programs\\\\Python\\\\Python310\\\\lib', 'C:\\\\', 'C:\\\\Users\\\\User\\\\AppData\\\\Local\\\\Programs\\\\Python\\\\Python310\\\\libs']\n",
      "      NOT AVAILABLE\n",
      "  \n",
      "    openblas_lapack_info:\n",
      "    No module named 'numpy.distutils._msvccompiler' in numpy.distutils; trying from distutils\n",
      "    customize MSVCCompiler\n",
      "    No module named 'numpy.distutils._msvccompiler' in numpy.distutils; trying from distutils\n",
      "    customize MSVCCompiler\n",
      "      libraries openblas not found in ['C:\\\\Users\\\\User\\\\AppData\\\\Local\\\\Programs\\\\Python\\\\Python310\\\\lib', 'C:\\\\', 'C:\\\\Users\\\\User\\\\AppData\\\\Local\\\\Programs\\\\Python\\\\Python310\\\\libs']\n",
      "      NOT AVAILABLE\n",
      "  \n",
      "    openblas_clapack_info:\n",
      "    No module named 'numpy.distutils._msvccompiler' in numpy.distutils; trying from distutils\n",
      "    customize MSVCCompiler\n",
      "    No module named 'numpy.distutils._msvccompiler' in numpy.distutils; trying from distutils\n",
      "    customize MSVCCompiler\n",
      "      libraries openblas,lapack not found in ['C:\\\\Users\\\\User\\\\AppData\\\\Local\\\\Programs\\\\Python\\\\Python310\\\\lib', 'C:\\\\', 'C:\\\\Users\\\\User\\\\AppData\\\\Local\\\\Programs\\\\Python\\\\Python310\\\\libs']\n",
      "      NOT AVAILABLE\n",
      "  \n",
      "    flame_info:\n",
      "    No module named 'numpy.distutils._msvccompiler' in numpy.distutils; trying from distutils\n",
      "    customize MSVCCompiler\n",
      "      libraries flame not found in ['C:\\\\Users\\\\User\\\\AppData\\\\Local\\\\Programs\\\\Python\\\\Python310\\\\lib', 'C:\\\\', 'C:\\\\Users\\\\User\\\\AppData\\\\Local\\\\Programs\\\\Python\\\\Python310\\\\libs']\n",
      "      NOT AVAILABLE\n",
      "  \n",
      "    atlas_3_10_threads_info:\n",
      "    Setting PTATLAS=ATLAS\n",
      "    No module named 'numpy.distutils._msvccompiler' in numpy.distutils; trying from distutils\n",
      "    customize MSVCCompiler\n",
      "      libraries lapack_atlas not found in C:\\Users\\User\\AppData\\Local\\Programs\\Python\\Python310\\lib\n",
      "    No module named 'numpy.distutils._msvccompiler' in numpy.distutils; trying from distutils\n",
      "    customize MSVCCompiler\n",
      "      libraries tatlas,tatlas not found in C:\\Users\\User\\AppData\\Local\\Programs\\Python\\Python310\\lib\n",
      "    No module named 'numpy.distutils._msvccompiler' in numpy.distutils; trying from distutils\n",
      "    customize MSVCCompiler\n",
      "      libraries lapack_atlas not found in C:\\\n",
      "    No module named 'numpy.distutils._msvccompiler' in numpy.distutils; trying from distutils\n",
      "    customize MSVCCompiler\n",
      "      libraries tatlas,tatlas not found in C:\\\n",
      "    No module named 'numpy.distutils._msvccompiler' in numpy.distutils; trying from distutils\n",
      "    customize MSVCCompiler\n",
      "      libraries lapack_atlas not found in C:\\Users\\User\\AppData\\Local\\Programs\\Python\\Python310\\libs\n",
      "    No module named 'numpy.distutils._msvccompiler' in numpy.distutils; trying from distutils\n",
      "    customize MSVCCompiler\n",
      "      libraries tatlas,tatlas not found in C:\\Users\\User\\AppData\\Local\\Programs\\Python\\Python310\\libs\n",
      "    <class 'numpy.distutils.system_info.atlas_3_10_threads_info'>\n",
      "      NOT AVAILABLE\n",
      "  \n",
      "    atlas_3_10_info:\n",
      "    No module named 'numpy.distutils._msvccompiler' in numpy.distutils; trying from distutils\n",
      "    customize MSVCCompiler\n",
      "      libraries lapack_atlas not found in C:\\Users\\User\\AppData\\Local\\Programs\\Python\\Python310\\lib\n",
      "    No module named 'numpy.distutils._msvccompiler' in numpy.distutils; trying from distutils\n",
      "    customize MSVCCompiler\n",
      "      libraries satlas,satlas not found in C:\\Users\\User\\AppData\\Local\\Programs\\Python\\Python310\\lib\n",
      "    No module named 'numpy.distutils._msvccompiler' in numpy.distutils; trying from distutils\n",
      "    customize MSVCCompiler\n",
      "      libraries lapack_atlas not found in C:\\\n",
      "    No module named 'numpy.distutils._msvccompiler' in numpy.distutils; trying from distutils\n",
      "    customize MSVCCompiler\n",
      "      libraries satlas,satlas not found in C:\\\n",
      "    No module named 'numpy.distutils._msvccompiler' in numpy.distutils; trying from distutils\n",
      "    customize MSVCCompiler\n",
      "      libraries lapack_atlas not found in C:\\Users\\User\\AppData\\Local\\Programs\\Python\\Python310\\libs\n",
      "    No module named 'numpy.distutils._msvccompiler' in numpy.distutils; trying from distutils\n",
      "    customize MSVCCompiler\n",
      "      libraries satlas,satlas not found in C:\\Users\\User\\AppData\\Local\\Programs\\Python\\Python310\\libs\n",
      "    <class 'numpy.distutils.system_info.atlas_3_10_info'>\n",
      "      NOT AVAILABLE\n",
      "  \n",
      "    atlas_threads_info:\n",
      "    Setting PTATLAS=ATLAS\n",
      "    No module named 'numpy.distutils._msvccompiler' in numpy.distutils; trying from distutils\n",
      "    customize MSVCCompiler\n",
      "      libraries lapack_atlas not found in C:\\Users\\User\\AppData\\Local\\Programs\\Python\\Python310\\lib\n",
      "    No module named 'numpy.distutils._msvccompiler' in numpy.distutils; trying from distutils\n",
      "    customize MSVCCompiler\n",
      "      libraries ptf77blas,ptcblas,atlas not found in C:\\Users\\User\\AppData\\Local\\Programs\\Python\\Python310\\lib\n",
      "    No module named 'numpy.distutils._msvccompiler' in numpy.distutils; trying from distutils\n",
      "    customize MSVCCompiler\n",
      "      libraries lapack_atlas not found in C:\\\n",
      "    No module named 'numpy.distutils._msvccompiler' in numpy.distutils; trying from distutils\n",
      "    customize MSVCCompiler\n",
      "      libraries ptf77blas,ptcblas,atlas not found in C:\\\n",
      "    No module named 'numpy.distutils._msvccompiler' in numpy.distutils; trying from distutils\n",
      "    customize MSVCCompiler\n",
      "      libraries lapack_atlas not found in C:\\Users\\User\\AppData\\Local\\Programs\\Python\\Python310\\libs\n",
      "    No module named 'numpy.distutils._msvccompiler' in numpy.distutils; trying from distutils\n",
      "    customize MSVCCompiler\n",
      "      libraries ptf77blas,ptcblas,atlas not found in C:\\Users\\User\\AppData\\Local\\Programs\\Python\\Python310\\libs\n",
      "    <class 'numpy.distutils.system_info.atlas_threads_info'>\n",
      "      NOT AVAILABLE\n",
      "  \n",
      "    atlas_info:\n",
      "    No module named 'numpy.distutils._msvccompiler' in numpy.distutils; trying from distutils\n",
      "    customize MSVCCompiler\n",
      "      libraries lapack_atlas not found in C:\\Users\\User\\AppData\\Local\\Programs\\Python\\Python310\\lib\n",
      "    No module named 'numpy.distutils._msvccompiler' in numpy.distutils; trying from distutils\n",
      "    customize MSVCCompiler\n",
      "      libraries f77blas,cblas,atlas not found in C:\\Users\\User\\AppData\\Local\\Programs\\Python\\Python310\\lib\n",
      "    No module named 'numpy.distutils._msvccompiler' in numpy.distutils; trying from distutils\n",
      "    customize MSVCCompiler\n",
      "      libraries lapack_atlas not found in C:\\\n",
      "    No module named 'numpy.distutils._msvccompiler' in numpy.distutils; trying from distutils\n",
      "    customize MSVCCompiler\n",
      "      libraries f77blas,cblas,atlas not found in C:\\\n",
      "    No module named 'numpy.distutils._msvccompiler' in numpy.distutils; trying from distutils\n",
      "    customize MSVCCompiler\n",
      "      libraries lapack_atlas not found in C:\\Users\\User\\AppData\\Local\\Programs\\Python\\Python310\\libs\n",
      "    No module named 'numpy.distutils._msvccompiler' in numpy.distutils; trying from distutils\n",
      "    customize MSVCCompiler\n",
      "      libraries f77blas,cblas,atlas not found in C:\\Users\\User\\AppData\\Local\\Programs\\Python\\Python310\\libs\n",
      "    <class 'numpy.distutils.system_info.atlas_info'>\n",
      "      NOT AVAILABLE\n",
      "  \n"
     ]
    },
    {
     "name": "stderr",
     "output_type": "stream",
     "text": [
      "    lapack_info:\n",
      "    No module named 'numpy.distutils._msvccompiler' in numpy.distutils; trying from distutils\n",
      "    customize MSVCCompiler\n",
      "      libraries lapack not found in ['C:\\\\Users\\\\User\\\\AppData\\\\Local\\\\Programs\\\\Python\\\\Python310\\\\lib', 'C:\\\\', 'C:\\\\Users\\\\User\\\\AppData\\\\Local\\\\Programs\\\\Python\\\\Python310\\\\libs']\n",
      "      NOT AVAILABLE\n",
      "  \n",
      "    C:\\Users\\User\\AppData\\Local\\Temp\\pip-install-ccjhce_8\\numpy_4aca21f610b3491487ee9e25b3889ff2\\numpy\\distutils\\system_info.py:1712: UserWarning:\n",
      "        Lapack (http://www.netlib.org/lapack/) libraries not found.\n",
      "        Directories to search for the libraries can be specified in the\n",
      "        numpy/distutils/site.cfg file (section [lapack]) or by setting\n",
      "        the LAPACK environment variable.\n",
      "      if getattr(self, '_calc_info_{}'.format(lapack))():\n",
      "    lapack_src_info:\n",
      "      NOT AVAILABLE\n",
      "  \n",
      "    C:\\Users\\User\\AppData\\Local\\Temp\\pip-install-ccjhce_8\\numpy_4aca21f610b3491487ee9e25b3889ff2\\numpy\\distutils\\system_info.py:1712: UserWarning:\n",
      "        Lapack (http://www.netlib.org/lapack/) sources not found.\n",
      "        Directories to search for the sources can be specified in the\n",
      "        numpy/distutils/site.cfg file (section [lapack_src]) or by setting\n",
      "        the LAPACK_SRC environment variable.\n",
      "      if getattr(self, '_calc_info_{}'.format(lapack))():\n",
      "      NOT AVAILABLE\n",
      "  \n",
      "    C:\\Users\\User\\AppData\\Local\\Programs\\Python\\Python310\\lib\\distutils\\dist.py:274: UserWarning: Unknown distribution option: 'define_macros'\n",
      "      warnings.warn(msg)\n",
      "    running install\n",
      "    running build\n",
      "    running config_cc\n",
      "    unifing config_cc, config, build_clib, build_ext, build commands --compiler options\n",
      "    running config_fc\n",
      "    unifing config_fc, config, build_clib, build_ext, build commands --fcompiler options\n",
      "    running build_src\n",
      "    build_src\n",
      "    building py_modules sources\n",
      "    creating build\n",
      "    creating build\\src.win-amd64-3.1\n",
      "    creating build\\src.win-amd64-3.1\\numpy\n",
      "    creating build\\src.win-amd64-3.1\\numpy\\distutils\n",
      "    building library \"npymath\" sources\n",
      "    No module named 'numpy.distutils._msvccompiler' in numpy.distutils; trying from distutils\n",
      "    error: Microsoft Visual C++ 14.0 or greater is required. Get it with \"Microsoft C++ Build Tools\": https://visualstudio.microsoft.com/visual-cpp-build-tools/\n",
      "    [end of output]\n",
      "  \n",
      "    note: This error originates from a subprocess, and is likely not a problem with pip.\n",
      "  error: legacy-install-failure\n",
      "  \n",
      "  Encountered error while trying to install package.\n",
      "  \n",
      "  numpy\n",
      "  \n",
      "  note: This is an issue with the package mentioned above, not pip.\n",
      "  hint: See above for output from the failure.\n",
      "  [end of output]\n",
      "  \n",
      "  note: This error originates from a subprocess, and is likely not a problem with pip.\n",
      "error: subprocess-exited-with-error\n",
      "\n",
      "pip subprocess to install build dependencies did not run successfully.\n",
      "exit code: 1\n",
      "\n",
      "See above for output.\n",
      "\n",
      "note: This error originates from a subprocess, and is likely not a problem with pip.\n"
     ]
    }
   ],
   "source": [
    "!pip install pycaret"
   ]
  },
  {
   "cell_type": "code",
   "execution_count": 56,
   "id": "e2722c78",
   "metadata": {},
   "outputs": [],
   "source": [
    "from pycaret.classification import *"
   ]
  },
  {
   "cell_type": "markdown",
   "id": "b3654179",
   "metadata": {},
   "source": [
    "#### Definindo o Setup."
   ]
  },
  {
   "cell_type": "code",
   "execution_count": 57,
   "id": "9877b645",
   "metadata": {},
   "outputs": [
    {
     "data": {
      "text/html": [
       "<style type=\"text/css\">\n",
       "#T_4ebb3_row29_col1, #T_4ebb3_row44_col1, #T_4ebb3_row58_col1 {\n",
       "  background-color: lightgreen;\n",
       "}\n",
       "</style>\n",
       "<table id=\"T_4ebb3\">\n",
       "  <thead>\n",
       "    <tr>\n",
       "      <th class=\"blank level0\" >&nbsp;</th>\n",
       "      <th id=\"T_4ebb3_level0_col0\" class=\"col_heading level0 col0\" >Description</th>\n",
       "      <th id=\"T_4ebb3_level0_col1\" class=\"col_heading level0 col1\" >Value</th>\n",
       "    </tr>\n",
       "  </thead>\n",
       "  <tbody>\n",
       "    <tr>\n",
       "      <th id=\"T_4ebb3_level0_row0\" class=\"row_heading level0 row0\" >0</th>\n",
       "      <td id=\"T_4ebb3_row0_col0\" class=\"data row0 col0\" >session_id</td>\n",
       "      <td id=\"T_4ebb3_row0_col1\" class=\"data row0 col1\" >123</td>\n",
       "    </tr>\n",
       "    <tr>\n",
       "      <th id=\"T_4ebb3_level0_row1\" class=\"row_heading level0 row1\" >1</th>\n",
       "      <td id=\"T_4ebb3_row1_col0\" class=\"data row1 col0\" >Target</td>\n",
       "      <td id=\"T_4ebb3_row1_col1\" class=\"data row1 col1\" >turnover</td>\n",
       "    </tr>\n",
       "    <tr>\n",
       "      <th id=\"T_4ebb3_level0_row2\" class=\"row_heading level0 row2\" >2</th>\n",
       "      <td id=\"T_4ebb3_row2_col0\" class=\"data row2 col0\" >Target Type</td>\n",
       "      <td id=\"T_4ebb3_row2_col1\" class=\"data row2 col1\" >Binary</td>\n",
       "    </tr>\n",
       "    <tr>\n",
       "      <th id=\"T_4ebb3_level0_row3\" class=\"row_heading level0 row3\" >3</th>\n",
       "      <td id=\"T_4ebb3_row3_col0\" class=\"data row3 col0\" >Label Encoded</td>\n",
       "      <td id=\"T_4ebb3_row3_col1\" class=\"data row3 col1\" >None</td>\n",
       "    </tr>\n",
       "    <tr>\n",
       "      <th id=\"T_4ebb3_level0_row4\" class=\"row_heading level0 row4\" >4</th>\n",
       "      <td id=\"T_4ebb3_row4_col0\" class=\"data row4 col0\" >Original Data</td>\n",
       "      <td id=\"T_4ebb3_row4_col1\" class=\"data row4 col1\" >(14998, 5)</td>\n",
       "    </tr>\n",
       "    <tr>\n",
       "      <th id=\"T_4ebb3_level0_row5\" class=\"row_heading level0 row5\" >5</th>\n",
       "      <td id=\"T_4ebb3_row5_col0\" class=\"data row5 col0\" >Missing Values</td>\n",
       "      <td id=\"T_4ebb3_row5_col1\" class=\"data row5 col1\" >0</td>\n",
       "    </tr>\n",
       "    <tr>\n",
       "      <th id=\"T_4ebb3_level0_row6\" class=\"row_heading level0 row6\" >6</th>\n",
       "      <td id=\"T_4ebb3_row6_col0\" class=\"data row6 col0\" >Numeric Features</td>\n",
       "      <td id=\"T_4ebb3_row6_col1\" class=\"data row6 col1\" >4</td>\n",
       "    </tr>\n",
       "    <tr>\n",
       "      <th id=\"T_4ebb3_level0_row7\" class=\"row_heading level0 row7\" >7</th>\n",
       "      <td id=\"T_4ebb3_row7_col0\" class=\"data row7 col0\" >Categorical Features</td>\n",
       "      <td id=\"T_4ebb3_row7_col1\" class=\"data row7 col1\" >0</td>\n",
       "    </tr>\n",
       "    <tr>\n",
       "      <th id=\"T_4ebb3_level0_row8\" class=\"row_heading level0 row8\" >8</th>\n",
       "      <td id=\"T_4ebb3_row8_col0\" class=\"data row8 col0\" >Ordinal Features</td>\n",
       "      <td id=\"T_4ebb3_row8_col1\" class=\"data row8 col1\" >0</td>\n",
       "    </tr>\n",
       "    <tr>\n",
       "      <th id=\"T_4ebb3_level0_row9\" class=\"row_heading level0 row9\" >9</th>\n",
       "      <td id=\"T_4ebb3_row9_col0\" class=\"data row9 col0\" >High Cardinality Features</td>\n",
       "      <td id=\"T_4ebb3_row9_col1\" class=\"data row9 col1\" >0</td>\n",
       "    </tr>\n",
       "    <tr>\n",
       "      <th id=\"T_4ebb3_level0_row10\" class=\"row_heading level0 row10\" >10</th>\n",
       "      <td id=\"T_4ebb3_row10_col0\" class=\"data row10 col0\" >High Cardinality Method</td>\n",
       "      <td id=\"T_4ebb3_row10_col1\" class=\"data row10 col1\" >None</td>\n",
       "    </tr>\n",
       "    <tr>\n",
       "      <th id=\"T_4ebb3_level0_row11\" class=\"row_heading level0 row11\" >11</th>\n",
       "      <td id=\"T_4ebb3_row11_col0\" class=\"data row11 col0\" >Transformed Train Set</td>\n",
       "      <td id=\"T_4ebb3_row11_col1\" class=\"data row11 col1\" >(10498, 4)</td>\n",
       "    </tr>\n",
       "    <tr>\n",
       "      <th id=\"T_4ebb3_level0_row12\" class=\"row_heading level0 row12\" >12</th>\n",
       "      <td id=\"T_4ebb3_row12_col0\" class=\"data row12 col0\" >Transformed Test Set</td>\n",
       "      <td id=\"T_4ebb3_row12_col1\" class=\"data row12 col1\" >(4500, 4)</td>\n",
       "    </tr>\n",
       "    <tr>\n",
       "      <th id=\"T_4ebb3_level0_row13\" class=\"row_heading level0 row13\" >13</th>\n",
       "      <td id=\"T_4ebb3_row13_col0\" class=\"data row13 col0\" >Shuffle Train-Test</td>\n",
       "      <td id=\"T_4ebb3_row13_col1\" class=\"data row13 col1\" >True</td>\n",
       "    </tr>\n",
       "    <tr>\n",
       "      <th id=\"T_4ebb3_level0_row14\" class=\"row_heading level0 row14\" >14</th>\n",
       "      <td id=\"T_4ebb3_row14_col0\" class=\"data row14 col0\" >Stratify Train-Test</td>\n",
       "      <td id=\"T_4ebb3_row14_col1\" class=\"data row14 col1\" >True</td>\n",
       "    </tr>\n",
       "    <tr>\n",
       "      <th id=\"T_4ebb3_level0_row15\" class=\"row_heading level0 row15\" >15</th>\n",
       "      <td id=\"T_4ebb3_row15_col0\" class=\"data row15 col0\" >Fold Generator</td>\n",
       "      <td id=\"T_4ebb3_row15_col1\" class=\"data row15 col1\" >StratifiedKFold</td>\n",
       "    </tr>\n",
       "    <tr>\n",
       "      <th id=\"T_4ebb3_level0_row16\" class=\"row_heading level0 row16\" >16</th>\n",
       "      <td id=\"T_4ebb3_row16_col0\" class=\"data row16 col0\" >Fold Number</td>\n",
       "      <td id=\"T_4ebb3_row16_col1\" class=\"data row16 col1\" >10</td>\n",
       "    </tr>\n",
       "    <tr>\n",
       "      <th id=\"T_4ebb3_level0_row17\" class=\"row_heading level0 row17\" >17</th>\n",
       "      <td id=\"T_4ebb3_row17_col0\" class=\"data row17 col0\" >CPU Jobs</td>\n",
       "      <td id=\"T_4ebb3_row17_col1\" class=\"data row17 col1\" >-1</td>\n",
       "    </tr>\n",
       "    <tr>\n",
       "      <th id=\"T_4ebb3_level0_row18\" class=\"row_heading level0 row18\" >18</th>\n",
       "      <td id=\"T_4ebb3_row18_col0\" class=\"data row18 col0\" >Use GPU</td>\n",
       "      <td id=\"T_4ebb3_row18_col1\" class=\"data row18 col1\" >0</td>\n",
       "    </tr>\n",
       "    <tr>\n",
       "      <th id=\"T_4ebb3_level0_row19\" class=\"row_heading level0 row19\" >19</th>\n",
       "      <td id=\"T_4ebb3_row19_col0\" class=\"data row19 col0\" >Log Experiment</td>\n",
       "      <td id=\"T_4ebb3_row19_col1\" class=\"data row19 col1\" >0</td>\n",
       "    </tr>\n",
       "    <tr>\n",
       "      <th id=\"T_4ebb3_level0_row20\" class=\"row_heading level0 row20\" >20</th>\n",
       "      <td id=\"T_4ebb3_row20_col0\" class=\"data row20 col0\" >Experiment Name</td>\n",
       "      <td id=\"T_4ebb3_row20_col1\" class=\"data row20 col1\" >clf-default-name</td>\n",
       "    </tr>\n",
       "    <tr>\n",
       "      <th id=\"T_4ebb3_level0_row21\" class=\"row_heading level0 row21\" >21</th>\n",
       "      <td id=\"T_4ebb3_row21_col0\" class=\"data row21 col0\" >USI</td>\n",
       "      <td id=\"T_4ebb3_row21_col1\" class=\"data row21 col1\" >0a2a</td>\n",
       "    </tr>\n",
       "    <tr>\n",
       "      <th id=\"T_4ebb3_level0_row22\" class=\"row_heading level0 row22\" >22</th>\n",
       "      <td id=\"T_4ebb3_row22_col0\" class=\"data row22 col0\" >Imputation Type</td>\n",
       "      <td id=\"T_4ebb3_row22_col1\" class=\"data row22 col1\" >iterative</td>\n",
       "    </tr>\n",
       "    <tr>\n",
       "      <th id=\"T_4ebb3_level0_row23\" class=\"row_heading level0 row23\" >23</th>\n",
       "      <td id=\"T_4ebb3_row23_col0\" class=\"data row23 col0\" >Iterative Imputation Iteration</td>\n",
       "      <td id=\"T_4ebb3_row23_col1\" class=\"data row23 col1\" >5</td>\n",
       "    </tr>\n",
       "    <tr>\n",
       "      <th id=\"T_4ebb3_level0_row24\" class=\"row_heading level0 row24\" >24</th>\n",
       "      <td id=\"T_4ebb3_row24_col0\" class=\"data row24 col0\" >Numeric Imputer</td>\n",
       "      <td id=\"T_4ebb3_row24_col1\" class=\"data row24 col1\" >mean</td>\n",
       "    </tr>\n",
       "    <tr>\n",
       "      <th id=\"T_4ebb3_level0_row25\" class=\"row_heading level0 row25\" >25</th>\n",
       "      <td id=\"T_4ebb3_row25_col0\" class=\"data row25 col0\" >Iterative Imputation Numeric Model</td>\n",
       "      <td id=\"T_4ebb3_row25_col1\" class=\"data row25 col1\" >Light Gradient Boosting Machine</td>\n",
       "    </tr>\n",
       "    <tr>\n",
       "      <th id=\"T_4ebb3_level0_row26\" class=\"row_heading level0 row26\" >26</th>\n",
       "      <td id=\"T_4ebb3_row26_col0\" class=\"data row26 col0\" >Categorical Imputer</td>\n",
       "      <td id=\"T_4ebb3_row26_col1\" class=\"data row26 col1\" >constant</td>\n",
       "    </tr>\n",
       "    <tr>\n",
       "      <th id=\"T_4ebb3_level0_row27\" class=\"row_heading level0 row27\" >27</th>\n",
       "      <td id=\"T_4ebb3_row27_col0\" class=\"data row27 col0\" >Iterative Imputation Categorical Model</td>\n",
       "      <td id=\"T_4ebb3_row27_col1\" class=\"data row27 col1\" >Light Gradient Boosting Machine</td>\n",
       "    </tr>\n",
       "    <tr>\n",
       "      <th id=\"T_4ebb3_level0_row28\" class=\"row_heading level0 row28\" >28</th>\n",
       "      <td id=\"T_4ebb3_row28_col0\" class=\"data row28 col0\" >Unknown Categoricals Handling</td>\n",
       "      <td id=\"T_4ebb3_row28_col1\" class=\"data row28 col1\" >least_frequent</td>\n",
       "    </tr>\n",
       "    <tr>\n",
       "      <th id=\"T_4ebb3_level0_row29\" class=\"row_heading level0 row29\" >29</th>\n",
       "      <td id=\"T_4ebb3_row29_col0\" class=\"data row29 col0\" >Normalize</td>\n",
       "      <td id=\"T_4ebb3_row29_col1\" class=\"data row29 col1\" >1</td>\n",
       "    </tr>\n",
       "    <tr>\n",
       "      <th id=\"T_4ebb3_level0_row30\" class=\"row_heading level0 row30\" >30</th>\n",
       "      <td id=\"T_4ebb3_row30_col0\" class=\"data row30 col0\" >Normalize Method</td>\n",
       "      <td id=\"T_4ebb3_row30_col1\" class=\"data row30 col1\" >minmax</td>\n",
       "    </tr>\n",
       "    <tr>\n",
       "      <th id=\"T_4ebb3_level0_row31\" class=\"row_heading level0 row31\" >31</th>\n",
       "      <td id=\"T_4ebb3_row31_col0\" class=\"data row31 col0\" >Transformation</td>\n",
       "      <td id=\"T_4ebb3_row31_col1\" class=\"data row31 col1\" >0</td>\n",
       "    </tr>\n",
       "    <tr>\n",
       "      <th id=\"T_4ebb3_level0_row32\" class=\"row_heading level0 row32\" >32</th>\n",
       "      <td id=\"T_4ebb3_row32_col0\" class=\"data row32 col0\" >Transformation Method</td>\n",
       "      <td id=\"T_4ebb3_row32_col1\" class=\"data row32 col1\" >None</td>\n",
       "    </tr>\n",
       "    <tr>\n",
       "      <th id=\"T_4ebb3_level0_row33\" class=\"row_heading level0 row33\" >33</th>\n",
       "      <td id=\"T_4ebb3_row33_col0\" class=\"data row33 col0\" >PCA</td>\n",
       "      <td id=\"T_4ebb3_row33_col1\" class=\"data row33 col1\" >0</td>\n",
       "    </tr>\n",
       "    <tr>\n",
       "      <th id=\"T_4ebb3_level0_row34\" class=\"row_heading level0 row34\" >34</th>\n",
       "      <td id=\"T_4ebb3_row34_col0\" class=\"data row34 col0\" >PCA Method</td>\n",
       "      <td id=\"T_4ebb3_row34_col1\" class=\"data row34 col1\" >None</td>\n",
       "    </tr>\n",
       "    <tr>\n",
       "      <th id=\"T_4ebb3_level0_row35\" class=\"row_heading level0 row35\" >35</th>\n",
       "      <td id=\"T_4ebb3_row35_col0\" class=\"data row35 col0\" >PCA Components</td>\n",
       "      <td id=\"T_4ebb3_row35_col1\" class=\"data row35 col1\" >None</td>\n",
       "    </tr>\n",
       "    <tr>\n",
       "      <th id=\"T_4ebb3_level0_row36\" class=\"row_heading level0 row36\" >36</th>\n",
       "      <td id=\"T_4ebb3_row36_col0\" class=\"data row36 col0\" >Ignore Low Variance</td>\n",
       "      <td id=\"T_4ebb3_row36_col1\" class=\"data row36 col1\" >0</td>\n",
       "    </tr>\n",
       "    <tr>\n",
       "      <th id=\"T_4ebb3_level0_row37\" class=\"row_heading level0 row37\" >37</th>\n",
       "      <td id=\"T_4ebb3_row37_col0\" class=\"data row37 col0\" >Combine Rare Levels</td>\n",
       "      <td id=\"T_4ebb3_row37_col1\" class=\"data row37 col1\" >0</td>\n",
       "    </tr>\n",
       "    <tr>\n",
       "      <th id=\"T_4ebb3_level0_row38\" class=\"row_heading level0 row38\" >38</th>\n",
       "      <td id=\"T_4ebb3_row38_col0\" class=\"data row38 col0\" >Rare Level Threshold</td>\n",
       "      <td id=\"T_4ebb3_row38_col1\" class=\"data row38 col1\" >None</td>\n",
       "    </tr>\n",
       "    <tr>\n",
       "      <th id=\"T_4ebb3_level0_row39\" class=\"row_heading level0 row39\" >39</th>\n",
       "      <td id=\"T_4ebb3_row39_col0\" class=\"data row39 col0\" >Numeric Binning</td>\n",
       "      <td id=\"T_4ebb3_row39_col1\" class=\"data row39 col1\" >0</td>\n",
       "    </tr>\n",
       "    <tr>\n",
       "      <th id=\"T_4ebb3_level0_row40\" class=\"row_heading level0 row40\" >40</th>\n",
       "      <td id=\"T_4ebb3_row40_col0\" class=\"data row40 col0\" >Remove Outliers</td>\n",
       "      <td id=\"T_4ebb3_row40_col1\" class=\"data row40 col1\" >0</td>\n",
       "    </tr>\n",
       "    <tr>\n",
       "      <th id=\"T_4ebb3_level0_row41\" class=\"row_heading level0 row41\" >41</th>\n",
       "      <td id=\"T_4ebb3_row41_col0\" class=\"data row41 col0\" >Outliers Threshold</td>\n",
       "      <td id=\"T_4ebb3_row41_col1\" class=\"data row41 col1\" >None</td>\n",
       "    </tr>\n",
       "    <tr>\n",
       "      <th id=\"T_4ebb3_level0_row42\" class=\"row_heading level0 row42\" >42</th>\n",
       "      <td id=\"T_4ebb3_row42_col0\" class=\"data row42 col0\" >Remove Multicollinearity</td>\n",
       "      <td id=\"T_4ebb3_row42_col1\" class=\"data row42 col1\" >0</td>\n",
       "    </tr>\n",
       "    <tr>\n",
       "      <th id=\"T_4ebb3_level0_row43\" class=\"row_heading level0 row43\" >43</th>\n",
       "      <td id=\"T_4ebb3_row43_col0\" class=\"data row43 col0\" >Multicollinearity Threshold</td>\n",
       "      <td id=\"T_4ebb3_row43_col1\" class=\"data row43 col1\" >None</td>\n",
       "    </tr>\n",
       "    <tr>\n",
       "      <th id=\"T_4ebb3_level0_row44\" class=\"row_heading level0 row44\" >44</th>\n",
       "      <td id=\"T_4ebb3_row44_col0\" class=\"data row44 col0\" >Remove Perfect Collinearity</td>\n",
       "      <td id=\"T_4ebb3_row44_col1\" class=\"data row44 col1\" >1</td>\n",
       "    </tr>\n",
       "    <tr>\n",
       "      <th id=\"T_4ebb3_level0_row45\" class=\"row_heading level0 row45\" >45</th>\n",
       "      <td id=\"T_4ebb3_row45_col0\" class=\"data row45 col0\" >Clustering</td>\n",
       "      <td id=\"T_4ebb3_row45_col1\" class=\"data row45 col1\" >0</td>\n",
       "    </tr>\n",
       "    <tr>\n",
       "      <th id=\"T_4ebb3_level0_row46\" class=\"row_heading level0 row46\" >46</th>\n",
       "      <td id=\"T_4ebb3_row46_col0\" class=\"data row46 col0\" >Clustering Iteration</td>\n",
       "      <td id=\"T_4ebb3_row46_col1\" class=\"data row46 col1\" >None</td>\n",
       "    </tr>\n",
       "    <tr>\n",
       "      <th id=\"T_4ebb3_level0_row47\" class=\"row_heading level0 row47\" >47</th>\n",
       "      <td id=\"T_4ebb3_row47_col0\" class=\"data row47 col0\" >Polynomial Features</td>\n",
       "      <td id=\"T_4ebb3_row47_col1\" class=\"data row47 col1\" >0</td>\n",
       "    </tr>\n",
       "    <tr>\n",
       "      <th id=\"T_4ebb3_level0_row48\" class=\"row_heading level0 row48\" >48</th>\n",
       "      <td id=\"T_4ebb3_row48_col0\" class=\"data row48 col0\" >Polynomial Degree</td>\n",
       "      <td id=\"T_4ebb3_row48_col1\" class=\"data row48 col1\" >None</td>\n",
       "    </tr>\n",
       "    <tr>\n",
       "      <th id=\"T_4ebb3_level0_row49\" class=\"row_heading level0 row49\" >49</th>\n",
       "      <td id=\"T_4ebb3_row49_col0\" class=\"data row49 col0\" >Trignometry Features</td>\n",
       "      <td id=\"T_4ebb3_row49_col1\" class=\"data row49 col1\" >0</td>\n",
       "    </tr>\n",
       "    <tr>\n",
       "      <th id=\"T_4ebb3_level0_row50\" class=\"row_heading level0 row50\" >50</th>\n",
       "      <td id=\"T_4ebb3_row50_col0\" class=\"data row50 col0\" >Polynomial Threshold</td>\n",
       "      <td id=\"T_4ebb3_row50_col1\" class=\"data row50 col1\" >None</td>\n",
       "    </tr>\n",
       "    <tr>\n",
       "      <th id=\"T_4ebb3_level0_row51\" class=\"row_heading level0 row51\" >51</th>\n",
       "      <td id=\"T_4ebb3_row51_col0\" class=\"data row51 col0\" >Group Features</td>\n",
       "      <td id=\"T_4ebb3_row51_col1\" class=\"data row51 col1\" >0</td>\n",
       "    </tr>\n",
       "    <tr>\n",
       "      <th id=\"T_4ebb3_level0_row52\" class=\"row_heading level0 row52\" >52</th>\n",
       "      <td id=\"T_4ebb3_row52_col0\" class=\"data row52 col0\" >Feature Selection</td>\n",
       "      <td id=\"T_4ebb3_row52_col1\" class=\"data row52 col1\" >0</td>\n",
       "    </tr>\n",
       "    <tr>\n",
       "      <th id=\"T_4ebb3_level0_row53\" class=\"row_heading level0 row53\" >53</th>\n",
       "      <td id=\"T_4ebb3_row53_col0\" class=\"data row53 col0\" >Feature Selection Method</td>\n",
       "      <td id=\"T_4ebb3_row53_col1\" class=\"data row53 col1\" >classic</td>\n",
       "    </tr>\n",
       "    <tr>\n",
       "      <th id=\"T_4ebb3_level0_row54\" class=\"row_heading level0 row54\" >54</th>\n",
       "      <td id=\"T_4ebb3_row54_col0\" class=\"data row54 col0\" >Features Selection Threshold</td>\n",
       "      <td id=\"T_4ebb3_row54_col1\" class=\"data row54 col1\" >None</td>\n",
       "    </tr>\n",
       "    <tr>\n",
       "      <th id=\"T_4ebb3_level0_row55\" class=\"row_heading level0 row55\" >55</th>\n",
       "      <td id=\"T_4ebb3_row55_col0\" class=\"data row55 col0\" >Feature Interaction</td>\n",
       "      <td id=\"T_4ebb3_row55_col1\" class=\"data row55 col1\" >0</td>\n",
       "    </tr>\n",
       "    <tr>\n",
       "      <th id=\"T_4ebb3_level0_row56\" class=\"row_heading level0 row56\" >56</th>\n",
       "      <td id=\"T_4ebb3_row56_col0\" class=\"data row56 col0\" >Feature Ratio</td>\n",
       "      <td id=\"T_4ebb3_row56_col1\" class=\"data row56 col1\" >0</td>\n",
       "    </tr>\n",
       "    <tr>\n",
       "      <th id=\"T_4ebb3_level0_row57\" class=\"row_heading level0 row57\" >57</th>\n",
       "      <td id=\"T_4ebb3_row57_col0\" class=\"data row57 col0\" >Interaction Threshold</td>\n",
       "      <td id=\"T_4ebb3_row57_col1\" class=\"data row57 col1\" >None</td>\n",
       "    </tr>\n",
       "    <tr>\n",
       "      <th id=\"T_4ebb3_level0_row58\" class=\"row_heading level0 row58\" >58</th>\n",
       "      <td id=\"T_4ebb3_row58_col0\" class=\"data row58 col0\" >Fix Imbalance</td>\n",
       "      <td id=\"T_4ebb3_row58_col1\" class=\"data row58 col1\" >1</td>\n",
       "    </tr>\n",
       "    <tr>\n",
       "      <th id=\"T_4ebb3_level0_row59\" class=\"row_heading level0 row59\" >59</th>\n",
       "      <td id=\"T_4ebb3_row59_col0\" class=\"data row59 col0\" >Fix Imbalance Method</td>\n",
       "      <td id=\"T_4ebb3_row59_col1\" class=\"data row59 col1\" >SMOTE</td>\n",
       "    </tr>\n",
       "  </tbody>\n",
       "</table>\n"
      ],
      "text/plain": [
       "<pandas.io.formats.style.Styler at 0x15843502e80>"
      ]
     },
     "metadata": {},
     "output_type": "display_data"
    }
   ],
   "source": [
    "s = setup( df[[\"satisfaction\",\"evaluation\",\"averageMonthlyHours\",\"yearsAtCompany\",\"turnover\"]]\n",
    "          ,target = \"turnover\"\n",
    "          ,numeric_features = [\"yearsAtCompany\", \"averageMonthlyHours\"]\n",
    "          ,normalize = True\n",
    "          ,normalize_method = \"minmax\"\n",
    "          ,data_split_stratify = True\n",
    "          ,fix_imbalance = True\n",
    "          ,fold_shuffle=True\n",
    "          ,imputation_type = 'iterative'\n",
    "          ,session_id=123\n",
    "          \n",
    "         )"
   ]
  },
  {
   "cell_type": "markdown",
   "id": "3e71ecc6",
   "metadata": {
    "tags": []
   },
   "source": [
    "#### Comparando diferentes modelos."
   ]
  },
  {
   "cell_type": "code",
   "execution_count": 58,
   "id": "3c80679e",
   "metadata": {},
   "outputs": [
    {
     "data": {
      "text/html": [
       "<style type=\"text/css\">\n",
       "#T_789e0 th {\n",
       "  text-align: left;\n",
       "}\n",
       "#T_789e0_row0_col0, #T_789e0_row0_col1, #T_789e0_row0_col3, #T_789e0_row0_col4, #T_789e0_row0_col5, #T_789e0_row0_col6, #T_789e0_row0_col7, #T_789e0_row1_col0, #T_789e0_row1_col2, #T_789e0_row1_col3, #T_789e0_row2_col0, #T_789e0_row2_col1, #T_789e0_row2_col2, #T_789e0_row2_col3, #T_789e0_row2_col4, #T_789e0_row2_col5, #T_789e0_row2_col6, #T_789e0_row2_col7, #T_789e0_row3_col0, #T_789e0_row3_col1, #T_789e0_row3_col2, #T_789e0_row3_col3, #T_789e0_row3_col4, #T_789e0_row3_col5, #T_789e0_row3_col6, #T_789e0_row3_col7, #T_789e0_row4_col0, #T_789e0_row4_col1, #T_789e0_row4_col2, #T_789e0_row4_col3, #T_789e0_row4_col4, #T_789e0_row4_col5, #T_789e0_row4_col6, #T_789e0_row4_col7, #T_789e0_row5_col0, #T_789e0_row5_col1, #T_789e0_row5_col2, #T_789e0_row5_col4, #T_789e0_row5_col5, #T_789e0_row5_col6, #T_789e0_row5_col7, #T_789e0_row6_col0, #T_789e0_row6_col1, #T_789e0_row6_col2, #T_789e0_row6_col3, #T_789e0_row6_col4, #T_789e0_row6_col5, #T_789e0_row6_col6, #T_789e0_row6_col7, #T_789e0_row7_col0, #T_789e0_row7_col1, #T_789e0_row7_col2, #T_789e0_row7_col3, #T_789e0_row7_col4, #T_789e0_row7_col5, #T_789e0_row7_col6, #T_789e0_row7_col7, #T_789e0_row8_col0, #T_789e0_row8_col1, #T_789e0_row8_col2, #T_789e0_row8_col3, #T_789e0_row8_col4, #T_789e0_row8_col5, #T_789e0_row8_col6, #T_789e0_row8_col7, #T_789e0_row9_col0, #T_789e0_row9_col1, #T_789e0_row9_col2, #T_789e0_row9_col3, #T_789e0_row9_col4, #T_789e0_row9_col5, #T_789e0_row9_col6, #T_789e0_row9_col7, #T_789e0_row10_col0, #T_789e0_row10_col1, #T_789e0_row10_col2, #T_789e0_row10_col3, #T_789e0_row10_col4, #T_789e0_row10_col5, #T_789e0_row10_col6, #T_789e0_row10_col7, #T_789e0_row11_col0, #T_789e0_row11_col1, #T_789e0_row11_col2, #T_789e0_row11_col3, #T_789e0_row11_col4, #T_789e0_row11_col5, #T_789e0_row11_col6, #T_789e0_row11_col7, #T_789e0_row12_col0, #T_789e0_row12_col1, #T_789e0_row12_col2, #T_789e0_row12_col3, #T_789e0_row12_col4, #T_789e0_row12_col5, #T_789e0_row12_col6, #T_789e0_row12_col7, #T_789e0_row13_col0, #T_789e0_row13_col1, #T_789e0_row13_col2, #T_789e0_row13_col3, #T_789e0_row13_col4, #T_789e0_row13_col5, #T_789e0_row13_col6, #T_789e0_row13_col7 {\n",
       "  text-align: left;\n",
       "}\n",
       "#T_789e0_row0_col2, #T_789e0_row1_col1, #T_789e0_row1_col4, #T_789e0_row1_col5, #T_789e0_row1_col6, #T_789e0_row1_col7, #T_789e0_row5_col3 {\n",
       "  text-align: left;\n",
       "  background-color: yellow;\n",
       "}\n",
       "#T_789e0_row0_col8, #T_789e0_row1_col8, #T_789e0_row2_col8, #T_789e0_row3_col8, #T_789e0_row4_col8, #T_789e0_row5_col8, #T_789e0_row6_col8, #T_789e0_row8_col8, #T_789e0_row9_col8, #T_789e0_row11_col8, #T_789e0_row12_col8, #T_789e0_row13_col8 {\n",
       "  text-align: left;\n",
       "  background-color: lightgrey;\n",
       "}\n",
       "#T_789e0_row7_col8, #T_789e0_row10_col8 {\n",
       "  text-align: left;\n",
       "  background-color: yellow;\n",
       "  background-color: lightgrey;\n",
       "}\n",
       "</style>\n",
       "<table id=\"T_789e0\">\n",
       "  <thead>\n",
       "    <tr>\n",
       "      <th class=\"blank level0\" >&nbsp;</th>\n",
       "      <th id=\"T_789e0_level0_col0\" class=\"col_heading level0 col0\" >Model</th>\n",
       "      <th id=\"T_789e0_level0_col1\" class=\"col_heading level0 col1\" >Accuracy</th>\n",
       "      <th id=\"T_789e0_level0_col2\" class=\"col_heading level0 col2\" >AUC</th>\n",
       "      <th id=\"T_789e0_level0_col3\" class=\"col_heading level0 col3\" >Recall</th>\n",
       "      <th id=\"T_789e0_level0_col4\" class=\"col_heading level0 col4\" >Prec.</th>\n",
       "      <th id=\"T_789e0_level0_col5\" class=\"col_heading level0 col5\" >F1</th>\n",
       "      <th id=\"T_789e0_level0_col6\" class=\"col_heading level0 col6\" >Kappa</th>\n",
       "      <th id=\"T_789e0_level0_col7\" class=\"col_heading level0 col7\" >MCC</th>\n",
       "      <th id=\"T_789e0_level0_col8\" class=\"col_heading level0 col8\" >TT (Sec)</th>\n",
       "    </tr>\n",
       "  </thead>\n",
       "  <tbody>\n",
       "    <tr>\n",
       "      <th id=\"T_789e0_level0_row0\" class=\"row_heading level0 row0\" >gbc</th>\n",
       "      <td id=\"T_789e0_row0_col0\" class=\"data row0 col0\" >Gradient Boosting Classifier</td>\n",
       "      <td id=\"T_789e0_row0_col1\" class=\"data row0 col1\" >0.8258</td>\n",
       "      <td id=\"T_789e0_row0_col2\" class=\"data row0 col2\" >0.8055</td>\n",
       "      <td id=\"T_789e0_row0_col3\" class=\"data row0 col3\" >0.6847</td>\n",
       "      <td id=\"T_789e0_row0_col4\" class=\"data row0 col4\" >0.6221</td>\n",
       "      <td id=\"T_789e0_row0_col5\" class=\"data row0 col5\" >0.6517</td>\n",
       "      <td id=\"T_789e0_row0_col6\" class=\"data row0 col6\" >0.5359</td>\n",
       "      <td id=\"T_789e0_row0_col7\" class=\"data row0 col7\" >0.5371</td>\n",
       "      <td id=\"T_789e0_row0_col8\" class=\"data row0 col8\" >0.4800</td>\n",
       "    </tr>\n",
       "    <tr>\n",
       "      <th id=\"T_789e0_level0_row1\" class=\"row_heading level0 row1\" >lightgbm</th>\n",
       "      <td id=\"T_789e0_row1_col0\" class=\"data row1 col0\" >Light Gradient Boosting Machine</td>\n",
       "      <td id=\"T_789e0_row1_col1\" class=\"data row1 col1\" >0.8437</td>\n",
       "      <td id=\"T_789e0_row1_col2\" class=\"data row1 col2\" >0.7968</td>\n",
       "      <td id=\"T_789e0_row1_col3\" class=\"data row1 col3\" >0.6499</td>\n",
       "      <td id=\"T_789e0_row1_col4\" class=\"data row1 col4\" >0.6796</td>\n",
       "      <td id=\"T_789e0_row1_col5\" class=\"data row1 col5\" >0.6644</td>\n",
       "      <td id=\"T_789e0_row1_col6\" class=\"data row1 col6\" >0.5625</td>\n",
       "      <td id=\"T_789e0_row1_col7\" class=\"data row1 col7\" >0.5628</td>\n",
       "      <td id=\"T_789e0_row1_col8\" class=\"data row1 col8\" >0.1860</td>\n",
       "    </tr>\n",
       "    <tr>\n",
       "      <th id=\"T_789e0_level0_row2\" class=\"row_heading level0 row2\" >ada</th>\n",
       "      <td id=\"T_789e0_row2_col0\" class=\"data row2 col0\" >Ada Boost Classifier</td>\n",
       "      <td id=\"T_789e0_row2_col1\" class=\"data row2 col1\" >0.8013</td>\n",
       "      <td id=\"T_789e0_row2_col2\" class=\"data row2 col2\" >0.7963</td>\n",
       "      <td id=\"T_789e0_row2_col3\" class=\"data row2 col3\" >0.6959</td>\n",
       "      <td id=\"T_789e0_row2_col4\" class=\"data row2 col4\" >0.5677</td>\n",
       "      <td id=\"T_789e0_row2_col5\" class=\"data row2 col5\" >0.6251</td>\n",
       "      <td id=\"T_789e0_row2_col6\" class=\"data row2 col6\" >0.4919</td>\n",
       "      <td id=\"T_789e0_row2_col7\" class=\"data row2 col7\" >0.4967</td>\n",
       "      <td id=\"T_789e0_row2_col8\" class=\"data row2 col8\" >0.2260</td>\n",
       "    </tr>\n",
       "    <tr>\n",
       "      <th id=\"T_789e0_level0_row3\" class=\"row_heading level0 row3\" >rf</th>\n",
       "      <td id=\"T_789e0_row3_col0\" class=\"data row3 col0\" >Random Forest Classifier</td>\n",
       "      <td id=\"T_789e0_row3_col1\" class=\"data row3 col1\" >0.8122</td>\n",
       "      <td id=\"T_789e0_row3_col2\" class=\"data row3 col2\" >0.7800</td>\n",
       "      <td id=\"T_789e0_row3_col3\" class=\"data row3 col3\" >0.5586</td>\n",
       "      <td id=\"T_789e0_row3_col4\" class=\"data row3 col4\" >0.6166</td>\n",
       "      <td id=\"T_789e0_row3_col5\" class=\"data row3 col5\" >0.5861</td>\n",
       "      <td id=\"T_789e0_row3_col6\" class=\"data row3 col6\" >0.4651</td>\n",
       "      <td id=\"T_789e0_row3_col7\" class=\"data row3 col7\" >0.4661</td>\n",
       "      <td id=\"T_789e0_row3_col8\" class=\"data row3 col8\" >0.5360</td>\n",
       "    </tr>\n",
       "    <tr>\n",
       "      <th id=\"T_789e0_level0_row4\" class=\"row_heading level0 row4\" >knn</th>\n",
       "      <td id=\"T_789e0_row4_col0\" class=\"data row4 col0\" >K Neighbors Classifier</td>\n",
       "      <td id=\"T_789e0_row4_col1\" class=\"data row4 col1\" >0.7410</td>\n",
       "      <td id=\"T_789e0_row4_col2\" class=\"data row4 col2\" >0.7587</td>\n",
       "      <td id=\"T_789e0_row4_col3\" class=\"data row4 col3\" >0.6859</td>\n",
       "      <td id=\"T_789e0_row4_col4\" class=\"data row4 col4\" >0.4701</td>\n",
       "      <td id=\"T_789e0_row4_col5\" class=\"data row4 col5\" >0.5578</td>\n",
       "      <td id=\"T_789e0_row4_col6\" class=\"data row4 col6\" >0.3836</td>\n",
       "      <td id=\"T_789e0_row4_col7\" class=\"data row4 col7\" >0.3973</td>\n",
       "      <td id=\"T_789e0_row4_col8\" class=\"data row4 col8\" >1.1720</td>\n",
       "    </tr>\n",
       "    <tr>\n",
       "      <th id=\"T_789e0_level0_row5\" class=\"row_heading level0 row5\" >qda</th>\n",
       "      <td id=\"T_789e0_row5_col0\" class=\"data row5 col0\" >Quadratic Discriminant Analysis</td>\n",
       "      <td id=\"T_789e0_row5_col1\" class=\"data row5 col1\" >0.7219</td>\n",
       "      <td id=\"T_789e0_row5_col2\" class=\"data row5 col2\" >0.7561</td>\n",
       "      <td id=\"T_789e0_row5_col3\" class=\"data row5 col3\" >0.7535</td>\n",
       "      <td id=\"T_789e0_row5_col4\" class=\"data row5 col4\" >0.4498</td>\n",
       "      <td id=\"T_789e0_row5_col5\" class=\"data row5 col5\" >0.5633</td>\n",
       "      <td id=\"T_789e0_row5_col6\" class=\"data row5 col6\" >0.3778</td>\n",
       "      <td id=\"T_789e0_row5_col7\" class=\"data row5 col7\" >0.4049</td>\n",
       "      <td id=\"T_789e0_row5_col8\" class=\"data row5 col8\" >0.0760</td>\n",
       "    </tr>\n",
       "    <tr>\n",
       "      <th id=\"T_789e0_level0_row6\" class=\"row_heading level0 row6\" >et</th>\n",
       "      <td id=\"T_789e0_row6_col0\" class=\"data row6 col0\" >Extra Trees Classifier</td>\n",
       "      <td id=\"T_789e0_row6_col1\" class=\"data row6 col1\" >0.7978</td>\n",
       "      <td id=\"T_789e0_row6_col2\" class=\"data row6 col2\" >0.7506</td>\n",
       "      <td id=\"T_789e0_row6_col3\" class=\"data row6 col3\" >0.5142</td>\n",
       "      <td id=\"T_789e0_row6_col4\" class=\"data row6 col4\" >0.5858</td>\n",
       "      <td id=\"T_789e0_row6_col5\" class=\"data row6 col5\" >0.5476</td>\n",
       "      <td id=\"T_789e0_row6_col6\" class=\"data row6 col6\" >0.4181</td>\n",
       "      <td id=\"T_789e0_row6_col7\" class=\"data row6 col7\" >0.4196</td>\n",
       "      <td id=\"T_789e0_row6_col8\" class=\"data row6 col8\" >0.5500</td>\n",
       "    </tr>\n",
       "    <tr>\n",
       "      <th id=\"T_789e0_level0_row7\" class=\"row_heading level0 row7\" >nb</th>\n",
       "      <td id=\"T_789e0_row7_col0\" class=\"data row7 col0\" >Naive Bayes</td>\n",
       "      <td id=\"T_789e0_row7_col1\" class=\"data row7 col1\" >0.7092</td>\n",
       "      <td id=\"T_789e0_row7_col2\" class=\"data row7 col2\" >0.7150</td>\n",
       "      <td id=\"T_789e0_row7_col3\" class=\"data row7 col3\" >0.5878</td>\n",
       "      <td id=\"T_789e0_row7_col4\" class=\"data row7 col4\" >0.4209</td>\n",
       "      <td id=\"T_789e0_row7_col5\" class=\"data row7 col5\" >0.4904</td>\n",
       "      <td id=\"T_789e0_row7_col6\" class=\"data row7 col6\" >0.2947</td>\n",
       "      <td id=\"T_789e0_row7_col7\" class=\"data row7 col7\" >0.3029</td>\n",
       "      <td id=\"T_789e0_row7_col8\" class=\"data row7 col8\" >0.0400</td>\n",
       "    </tr>\n",
       "    <tr>\n",
       "      <th id=\"T_789e0_level0_row8\" class=\"row_heading level0 row8\" >lr</th>\n",
       "      <td id=\"T_789e0_row8_col0\" class=\"data row8 col0\" >Logistic Regression</td>\n",
       "      <td id=\"T_789e0_row8_col1\" class=\"data row8 col1\" >0.6770</td>\n",
       "      <td id=\"T_789e0_row8_col2\" class=\"data row8 col2\" >0.6946</td>\n",
       "      <td id=\"T_789e0_row8_col3\" class=\"data row8 col3\" >0.6311</td>\n",
       "      <td id=\"T_789e0_row8_col4\" class=\"data row8 col4\" >0.3898</td>\n",
       "      <td id=\"T_789e0_row8_col5\" class=\"data row8 col5\" >0.4818</td>\n",
       "      <td id=\"T_789e0_row8_col6\" class=\"data row8 col6\" >0.2658</td>\n",
       "      <td id=\"T_789e0_row8_col7\" class=\"data row8 col7\" >0.2822</td>\n",
       "      <td id=\"T_789e0_row8_col8\" class=\"data row8 col8\" >1.9920</td>\n",
       "    </tr>\n",
       "    <tr>\n",
       "      <th id=\"T_789e0_level0_row9\" class=\"row_heading level0 row9\" >lda</th>\n",
       "      <td id=\"T_789e0_row9_col0\" class=\"data row9 col0\" >Linear Discriminant Analysis</td>\n",
       "      <td id=\"T_789e0_row9_col1\" class=\"data row9 col1\" >0.6808</td>\n",
       "      <td id=\"T_789e0_row9_col2\" class=\"data row9 col2\" >0.6937</td>\n",
       "      <td id=\"T_789e0_row9_col3\" class=\"data row9 col3\" >0.6279</td>\n",
       "      <td id=\"T_789e0_row9_col4\" class=\"data row9 col4\" >0.3933</td>\n",
       "      <td id=\"T_789e0_row9_col5\" class=\"data row9 col5\" >0.4835</td>\n",
       "      <td id=\"T_789e0_row9_col6\" class=\"data row9 col6\" >0.2698</td>\n",
       "      <td id=\"T_789e0_row9_col7\" class=\"data row9 col7\" >0.2854</td>\n",
       "      <td id=\"T_789e0_row9_col8\" class=\"data row9 col8\" >0.0560</td>\n",
       "    </tr>\n",
       "    <tr>\n",
       "      <th id=\"T_789e0_level0_row10\" class=\"row_heading level0 row10\" >dt</th>\n",
       "      <td id=\"T_789e0_row10_col0\" class=\"data row10 col0\" >Decision Tree Classifier</td>\n",
       "      <td id=\"T_789e0_row10_col1\" class=\"data row10 col1\" >0.7376</td>\n",
       "      <td id=\"T_789e0_row10_col2\" class=\"data row10 col2\" >0.6615</td>\n",
       "      <td id=\"T_789e0_row10_col3\" class=\"data row10 col3\" >0.4982</td>\n",
       "      <td id=\"T_789e0_row10_col4\" class=\"data row10 col4\" >0.4530</td>\n",
       "      <td id=\"T_789e0_row10_col5\" class=\"data row10 col5\" >0.4744</td>\n",
       "      <td id=\"T_789e0_row10_col6\" class=\"data row10 col6\" >0.3001</td>\n",
       "      <td id=\"T_789e0_row10_col7\" class=\"data row10 col7\" >0.3008</td>\n",
       "      <td id=\"T_789e0_row10_col8\" class=\"data row10 col8\" >0.0400</td>\n",
       "    </tr>\n",
       "    <tr>\n",
       "      <th id=\"T_789e0_level0_row11\" class=\"row_heading level0 row11\" >dummy</th>\n",
       "      <td id=\"T_789e0_row11_col0\" class=\"data row11 col0\" >Dummy Classifier</td>\n",
       "      <td id=\"T_789e0_row11_col1\" class=\"data row11 col1\" >0.7620</td>\n",
       "      <td id=\"T_789e0_row11_col2\" class=\"data row11 col2\" >0.5000</td>\n",
       "      <td id=\"T_789e0_row11_col3\" class=\"data row11 col3\" >0.0000</td>\n",
       "      <td id=\"T_789e0_row11_col4\" class=\"data row11 col4\" >0.0000</td>\n",
       "      <td id=\"T_789e0_row11_col5\" class=\"data row11 col5\" >0.0000</td>\n",
       "      <td id=\"T_789e0_row11_col6\" class=\"data row11 col6\" >0.0000</td>\n",
       "      <td id=\"T_789e0_row11_col7\" class=\"data row11 col7\" >0.0000</td>\n",
       "      <td id=\"T_789e0_row11_col8\" class=\"data row11 col8\" >0.0520</td>\n",
       "    </tr>\n",
       "    <tr>\n",
       "      <th id=\"T_789e0_level0_row12\" class=\"row_heading level0 row12\" >svm</th>\n",
       "      <td id=\"T_789e0_row12_col0\" class=\"data row12 col0\" >SVM - Linear Kernel</td>\n",
       "      <td id=\"T_789e0_row12_col1\" class=\"data row12 col1\" >0.6831</td>\n",
       "      <td id=\"T_789e0_row12_col2\" class=\"data row12 col2\" >0.0000</td>\n",
       "      <td id=\"T_789e0_row12_col3\" class=\"data row12 col3\" >0.6110</td>\n",
       "      <td id=\"T_789e0_row12_col4\" class=\"data row12 col4\" >0.3970</td>\n",
       "      <td id=\"T_789e0_row12_col5\" class=\"data row12 col5\" >0.4798</td>\n",
       "      <td id=\"T_789e0_row12_col6\" class=\"data row12 col6\" >0.2681</td>\n",
       "      <td id=\"T_789e0_row12_col7\" class=\"data row12 col7\" >0.2813</td>\n",
       "      <td id=\"T_789e0_row12_col8\" class=\"data row12 col8\" >0.1560</td>\n",
       "    </tr>\n",
       "    <tr>\n",
       "      <th id=\"T_789e0_level0_row13\" class=\"row_heading level0 row13\" >ridge</th>\n",
       "      <td id=\"T_789e0_row13_col0\" class=\"data row13 col0\" >Ridge Classifier</td>\n",
       "      <td id=\"T_789e0_row13_col1\" class=\"data row13 col1\" >0.6807</td>\n",
       "      <td id=\"T_789e0_row13_col2\" class=\"data row13 col2\" >0.0000</td>\n",
       "      <td id=\"T_789e0_row13_col3\" class=\"data row13 col3\" >0.6279</td>\n",
       "      <td id=\"T_789e0_row13_col4\" class=\"data row13 col4\" >0.3932</td>\n",
       "      <td id=\"T_789e0_row13_col5\" class=\"data row13 col5\" >0.4834</td>\n",
       "      <td id=\"T_789e0_row13_col6\" class=\"data row13 col6\" >0.2697</td>\n",
       "      <td id=\"T_789e0_row13_col7\" class=\"data row13 col7\" >0.2853</td>\n",
       "      <td id=\"T_789e0_row13_col8\" class=\"data row13 col8\" >0.5160</td>\n",
       "    </tr>\n",
       "  </tbody>\n",
       "</table>\n"
      ],
      "text/plain": [
       "<pandas.io.formats.style.Styler at 0x15843577d90>"
      ]
     },
     "metadata": {},
     "output_type": "display_data"
    }
   ],
   "source": [
    "best = compare_models(fold =5,sort = 'AUC')"
   ]
  },
  {
   "cell_type": "markdown",
   "id": "0f23a573",
   "metadata": {},
   "source": [
    "#### Criando o modelo."
   ]
  },
  {
   "cell_type": "code",
   "execution_count": 59,
   "id": "7ebbc8e1",
   "metadata": {},
   "outputs": [
    {
     "data": {
      "text/html": [
       "<style type=\"text/css\">\n",
       "#T_03a80_row5_col0, #T_03a80_row5_col1, #T_03a80_row5_col2, #T_03a80_row5_col3, #T_03a80_row5_col4, #T_03a80_row5_col5, #T_03a80_row5_col6 {\n",
       "  background: yellow;\n",
       "}\n",
       "</style>\n",
       "<table id=\"T_03a80\">\n",
       "  <thead>\n",
       "    <tr>\n",
       "      <th class=\"blank level0\" >&nbsp;</th>\n",
       "      <th id=\"T_03a80_level0_col0\" class=\"col_heading level0 col0\" >Accuracy</th>\n",
       "      <th id=\"T_03a80_level0_col1\" class=\"col_heading level0 col1\" >AUC</th>\n",
       "      <th id=\"T_03a80_level0_col2\" class=\"col_heading level0 col2\" >Recall</th>\n",
       "      <th id=\"T_03a80_level0_col3\" class=\"col_heading level0 col3\" >Prec.</th>\n",
       "      <th id=\"T_03a80_level0_col4\" class=\"col_heading level0 col4\" >F1</th>\n",
       "      <th id=\"T_03a80_level0_col5\" class=\"col_heading level0 col5\" >Kappa</th>\n",
       "      <th id=\"T_03a80_level0_col6\" class=\"col_heading level0 col6\" >MCC</th>\n",
       "    </tr>\n",
       "  </thead>\n",
       "  <tbody>\n",
       "    <tr>\n",
       "      <th id=\"T_03a80_level0_row0\" class=\"row_heading level0 row0\" >0</th>\n",
       "      <td id=\"T_03a80_row0_col0\" class=\"data row0 col0\" >0.8167</td>\n",
       "      <td id=\"T_03a80_row0_col1\" class=\"data row0 col1\" >0.8071</td>\n",
       "      <td id=\"T_03a80_row0_col2\" class=\"data row0 col2\" >0.6860</td>\n",
       "      <td id=\"T_03a80_row0_col3\" class=\"data row0 col3\" >0.6007</td>\n",
       "      <td id=\"T_03a80_row0_col4\" class=\"data row0 col4\" >0.6405</td>\n",
       "      <td id=\"T_03a80_row0_col5\" class=\"data row0 col5\" >0.5182</td>\n",
       "      <td id=\"T_03a80_row0_col6\" class=\"data row0 col6\" >0.5203</td>\n",
       "    </tr>\n",
       "    <tr>\n",
       "      <th id=\"T_03a80_level0_row1\" class=\"row_heading level0 row1\" >1</th>\n",
       "      <td id=\"T_03a80_row1_col0\" class=\"data row1 col0\" >0.8257</td>\n",
       "      <td id=\"T_03a80_row1_col1\" class=\"data row1 col1\" >0.8079</td>\n",
       "      <td id=\"T_03a80_row1_col2\" class=\"data row1 col2\" >0.6960</td>\n",
       "      <td id=\"T_03a80_row1_col3\" class=\"data row1 col3\" >0.6192</td>\n",
       "      <td id=\"T_03a80_row1_col4\" class=\"data row1 col4\" >0.6554</td>\n",
       "      <td id=\"T_03a80_row1_col5\" class=\"data row1 col5\" >0.5393</td>\n",
       "      <td id=\"T_03a80_row1_col6\" class=\"data row1 col6\" >0.5409</td>\n",
       "    </tr>\n",
       "    <tr>\n",
       "      <th id=\"T_03a80_level0_row2\" class=\"row_heading level0 row2\" >2</th>\n",
       "      <td id=\"T_03a80_row2_col0\" class=\"data row2 col0\" >0.8224</td>\n",
       "      <td id=\"T_03a80_row2_col1\" class=\"data row2 col1\" >0.7889</td>\n",
       "      <td id=\"T_03a80_row2_col2\" class=\"data row2 col2\" >0.6620</td>\n",
       "      <td id=\"T_03a80_row2_col3\" class=\"data row2 col3\" >0.6187</td>\n",
       "      <td id=\"T_03a80_row2_col4\" class=\"data row2 col4\" >0.6396</td>\n",
       "      <td id=\"T_03a80_row2_col5\" class=\"data row2 col5\" >0.5219</td>\n",
       "      <td id=\"T_03a80_row2_col6\" class=\"data row2 col6\" >0.5225</td>\n",
       "    </tr>\n",
       "    <tr>\n",
       "      <th id=\"T_03a80_level0_row3\" class=\"row_heading level0 row3\" >3</th>\n",
       "      <td id=\"T_03a80_row3_col0\" class=\"data row3 col0\" >0.8337</td>\n",
       "      <td id=\"T_03a80_row3_col1\" class=\"data row3 col1\" >0.8126</td>\n",
       "      <td id=\"T_03a80_row3_col2\" class=\"data row3 col2\" >0.6754</td>\n",
       "      <td id=\"T_03a80_row3_col3\" class=\"data row3 col3\" >0.6431</td>\n",
       "      <td id=\"T_03a80_row3_col4\" class=\"data row3 col4\" >0.6588</td>\n",
       "      <td id=\"T_03a80_row3_col5\" class=\"data row3 col5\" >0.5490</td>\n",
       "      <td id=\"T_03a80_row3_col6\" class=\"data row3 col6\" >0.5493</td>\n",
       "    </tr>\n",
       "    <tr>\n",
       "      <th id=\"T_03a80_level0_row4\" class=\"row_heading level0 row4\" >4</th>\n",
       "      <td id=\"T_03a80_row4_col0\" class=\"data row4 col0\" >0.8304</td>\n",
       "      <td id=\"T_03a80_row4_col1\" class=\"data row4 col1\" >0.8111</td>\n",
       "      <td id=\"T_03a80_row4_col2\" class=\"data row4 col2\" >0.7040</td>\n",
       "      <td id=\"T_03a80_row4_col3\" class=\"data row4 col3\" >0.6286</td>\n",
       "      <td id=\"T_03a80_row4_col4\" class=\"data row4 col4\" >0.6642</td>\n",
       "      <td id=\"T_03a80_row4_col5\" class=\"data row4 col5\" >0.5512</td>\n",
       "      <td id=\"T_03a80_row4_col6\" class=\"data row4 col6\" >0.5528</td>\n",
       "    </tr>\n",
       "    <tr>\n",
       "      <th id=\"T_03a80_level0_row5\" class=\"row_heading level0 row5\" >Mean</th>\n",
       "      <td id=\"T_03a80_row5_col0\" class=\"data row5 col0\" >0.8258</td>\n",
       "      <td id=\"T_03a80_row5_col1\" class=\"data row5 col1\" >0.8055</td>\n",
       "      <td id=\"T_03a80_row5_col2\" class=\"data row5 col2\" >0.6847</td>\n",
       "      <td id=\"T_03a80_row5_col3\" class=\"data row5 col3\" >0.6221</td>\n",
       "      <td id=\"T_03a80_row5_col4\" class=\"data row5 col4\" >0.6517</td>\n",
       "      <td id=\"T_03a80_row5_col5\" class=\"data row5 col5\" >0.5359</td>\n",
       "      <td id=\"T_03a80_row5_col6\" class=\"data row5 col6\" >0.5371</td>\n",
       "    </tr>\n",
       "    <tr>\n",
       "      <th id=\"T_03a80_level0_row6\" class=\"row_heading level0 row6\" >SD</th>\n",
       "      <td id=\"T_03a80_row6_col0\" class=\"data row6 col0\" >0.0060</td>\n",
       "      <td id=\"T_03a80_row6_col1\" class=\"data row6 col1\" >0.0086</td>\n",
       "      <td id=\"T_03a80_row6_col2\" class=\"data row6 col2\" >0.0149</td>\n",
       "      <td id=\"T_03a80_row6_col3\" class=\"data row6 col3\" >0.0139</td>\n",
       "      <td id=\"T_03a80_row6_col4\" class=\"data row6 col4\" >0.0099</td>\n",
       "      <td id=\"T_03a80_row6_col5\" class=\"data row6 col5\" >0.0136</td>\n",
       "      <td id=\"T_03a80_row6_col6\" class=\"data row6 col6\" >0.0135</td>\n",
       "    </tr>\n",
       "  </tbody>\n",
       "</table>\n"
      ],
      "text/plain": [
       "<pandas.io.formats.style.Styler at 0x158420e5250>"
      ]
     },
     "metadata": {},
     "output_type": "display_data"
    }
   ],
   "source": [
    "gbc = create_model('gbc', fold = 5)"
   ]
  },
  {
   "cell_type": "markdown",
   "id": "ee5e4b71",
   "metadata": {},
   "source": [
    "#### Realizando o tunning do modelo."
   ]
  },
  {
   "cell_type": "code",
   "execution_count": 60,
   "id": "3ef5b20c",
   "metadata": {
    "scrolled": true,
    "tags": []
   },
   "outputs": [
    {
     "data": {
      "text/html": [
       "<style type=\"text/css\">\n",
       "#T_d7d65_row5_col0, #T_d7d65_row5_col1, #T_d7d65_row5_col2, #T_d7d65_row5_col3, #T_d7d65_row5_col4, #T_d7d65_row5_col5, #T_d7d65_row5_col6 {\n",
       "  background: yellow;\n",
       "}\n",
       "</style>\n",
       "<table id=\"T_d7d65\">\n",
       "  <thead>\n",
       "    <tr>\n",
       "      <th class=\"blank level0\" >&nbsp;</th>\n",
       "      <th id=\"T_d7d65_level0_col0\" class=\"col_heading level0 col0\" >Accuracy</th>\n",
       "      <th id=\"T_d7d65_level0_col1\" class=\"col_heading level0 col1\" >AUC</th>\n",
       "      <th id=\"T_d7d65_level0_col2\" class=\"col_heading level0 col2\" >Recall</th>\n",
       "      <th id=\"T_d7d65_level0_col3\" class=\"col_heading level0 col3\" >Prec.</th>\n",
       "      <th id=\"T_d7d65_level0_col4\" class=\"col_heading level0 col4\" >F1</th>\n",
       "      <th id=\"T_d7d65_level0_col5\" class=\"col_heading level0 col5\" >Kappa</th>\n",
       "      <th id=\"T_d7d65_level0_col6\" class=\"col_heading level0 col6\" >MCC</th>\n",
       "    </tr>\n",
       "  </thead>\n",
       "  <tbody>\n",
       "    <tr>\n",
       "      <th id=\"T_d7d65_level0_row0\" class=\"row_heading level0 row0\" >0</th>\n",
       "      <td id=\"T_d7d65_row0_col0\" class=\"data row0 col0\" >0.8352</td>\n",
       "      <td id=\"T_d7d65_row0_col1\" class=\"data row0 col1\" >0.8018</td>\n",
       "      <td id=\"T_d7d65_row0_col2\" class=\"data row0 col2\" >0.6800</td>\n",
       "      <td id=\"T_d7d65_row0_col3\" class=\"data row0 col3\" >0.6464</td>\n",
       "      <td id=\"T_d7d65_row0_col4\" class=\"data row0 col4\" >0.6628</td>\n",
       "      <td id=\"T_d7d65_row0_col5\" class=\"data row0 col5\" >0.5538</td>\n",
       "      <td id=\"T_d7d65_row0_col6\" class=\"data row0 col6\" >0.5542</td>\n",
       "    </tr>\n",
       "    <tr>\n",
       "      <th id=\"T_d7d65_level0_row1\" class=\"row_heading level0 row1\" >1</th>\n",
       "      <td id=\"T_d7d65_row1_col0\" class=\"data row1 col0\" >0.8381</td>\n",
       "      <td id=\"T_d7d65_row1_col1\" class=\"data row1 col1\" >0.8035</td>\n",
       "      <td id=\"T_d7d65_row1_col2\" class=\"data row1 col2\" >0.6840</td>\n",
       "      <td id=\"T_d7d65_row1_col3\" class=\"data row1 col3\" >0.6527</td>\n",
       "      <td id=\"T_d7d65_row1_col4\" class=\"data row1 col4\" >0.6680</td>\n",
       "      <td id=\"T_d7d65_row1_col5\" class=\"data row1 col5\" >0.5610</td>\n",
       "      <td id=\"T_d7d65_row1_col6\" class=\"data row1 col6\" >0.5613</td>\n",
       "    </tr>\n",
       "    <tr>\n",
       "      <th id=\"T_d7d65_level0_row2\" class=\"row_heading level0 row2\" >2</th>\n",
       "      <td id=\"T_d7d65_row2_col0\" class=\"data row2 col0\" >0.8324</td>\n",
       "      <td id=\"T_d7d65_row2_col1\" class=\"data row2 col1\" >0.7891</td>\n",
       "      <td id=\"T_d7d65_row2_col2\" class=\"data row2 col2\" >0.6600</td>\n",
       "      <td id=\"T_d7d65_row2_col3\" class=\"data row2 col3\" >0.6445</td>\n",
       "      <td id=\"T_d7d65_row2_col4\" class=\"data row2 col4\" >0.6522</td>\n",
       "      <td id=\"T_d7d65_row2_col5\" class=\"data row2 col5\" >0.5418</td>\n",
       "      <td id=\"T_d7d65_row2_col6\" class=\"data row2 col6\" >0.5418</td>\n",
       "    </tr>\n",
       "    <tr>\n",
       "      <th id=\"T_d7d65_level0_row3\" class=\"row_heading level0 row3\" >3</th>\n",
       "      <td id=\"T_d7d65_row3_col0\" class=\"data row3 col0\" >0.8385</td>\n",
       "      <td id=\"T_d7d65_row3_col1\" class=\"data row3 col1\" >0.8096</td>\n",
       "      <td id=\"T_d7d65_row3_col2\" class=\"data row3 col2\" >0.6673</td>\n",
       "      <td id=\"T_d7d65_row3_col3\" class=\"data row3 col3\" >0.6581</td>\n",
       "      <td id=\"T_d7d65_row3_col4\" class=\"data row3 col4\" >0.6627</td>\n",
       "      <td id=\"T_d7d65_row3_col5\" class=\"data row3 col5\" >0.5565</td>\n",
       "      <td id=\"T_d7d65_row3_col6\" class=\"data row3 col6\" >0.5565</td>\n",
       "    </tr>\n",
       "    <tr>\n",
       "      <th id=\"T_d7d65_level0_row4\" class=\"row_heading level0 row4\" >4</th>\n",
       "      <td id=\"T_d7d65_row4_col0\" class=\"data row4 col0\" >0.8371</td>\n",
       "      <td id=\"T_d7d65_row4_col1\" class=\"data row4 col1\" >0.8103</td>\n",
       "      <td id=\"T_d7d65_row4_col2\" class=\"data row4 col2\" >0.6880</td>\n",
       "      <td id=\"T_d7d65_row4_col3\" class=\"data row4 col3\" >0.6491</td>\n",
       "      <td id=\"T_d7d65_row4_col4\" class=\"data row4 col4\" >0.6680</td>\n",
       "      <td id=\"T_d7d65_row4_col5\" class=\"data row4 col5\" >0.5601</td>\n",
       "      <td id=\"T_d7d65_row4_col6\" class=\"data row4 col6\" >0.5605</td>\n",
       "    </tr>\n",
       "    <tr>\n",
       "      <th id=\"T_d7d65_level0_row5\" class=\"row_heading level0 row5\" >Mean</th>\n",
       "      <td id=\"T_d7d65_row5_col0\" class=\"data row5 col0\" >0.8363</td>\n",
       "      <td id=\"T_d7d65_row5_col1\" class=\"data row5 col1\" >0.8028</td>\n",
       "      <td id=\"T_d7d65_row5_col2\" class=\"data row5 col2\" >0.6759</td>\n",
       "      <td id=\"T_d7d65_row5_col3\" class=\"data row5 col3\" >0.6502</td>\n",
       "      <td id=\"T_d7d65_row5_col4\" class=\"data row5 col4\" >0.6627</td>\n",
       "      <td id=\"T_d7d65_row5_col5\" class=\"data row5 col5\" >0.5547</td>\n",
       "      <td id=\"T_d7d65_row5_col6\" class=\"data row5 col6\" >0.5549</td>\n",
       "    </tr>\n",
       "    <tr>\n",
       "      <th id=\"T_d7d65_level0_row6\" class=\"row_heading level0 row6\" >SD</th>\n",
       "      <td id=\"T_d7d65_row6_col0\" class=\"data row6 col0\" >0.0022</td>\n",
       "      <td id=\"T_d7d65_row6_col1\" class=\"data row6 col1\" >0.0077</td>\n",
       "      <td id=\"T_d7d65_row6_col2\" class=\"data row6 col2\" >0.0105</td>\n",
       "      <td id=\"T_d7d65_row6_col3\" class=\"data row6 col3\" >0.0048</td>\n",
       "      <td id=\"T_d7d65_row6_col4\" class=\"data row6 col4\" >0.0058</td>\n",
       "      <td id=\"T_d7d65_row6_col5\" class=\"data row6 col5\" >0.0069</td>\n",
       "      <td id=\"T_d7d65_row6_col6\" class=\"data row6 col6\" >0.0070</td>\n",
       "    </tr>\n",
       "  </tbody>\n",
       "</table>\n"
      ],
      "text/plain": [
       "<pandas.io.formats.style.Styler at 0x15843577a60>"
      ]
     },
     "metadata": {},
     "output_type": "display_data"
    }
   ],
   "source": [
    "tuned_gbc = tune_model(gbc\n",
    "                      ,fold = 5\n",
    "                      ,custom_grid = {\n",
    "                                      \"learning_rate\":[0.1,0.2,0.5]\n",
    "                                     ,\"n_estimators\":[100,500,1000]\n",
    "                                     ,\"min_samples_split\":[1,2,5,10]\n",
    "                                     ,\"max_depth\":[1,3,9]\n",
    "                                     }\n",
    "                      ,optimize = 'AUC')"
   ]
  },
  {
   "cell_type": "markdown",
   "id": "1d8cd78c",
   "metadata": {},
   "source": [
    "#### Finalizando o modelo."
   ]
  },
  {
   "cell_type": "code",
   "execution_count": 61,
   "id": "df89ee6b",
   "metadata": {},
   "outputs": [],
   "source": [
    "final_model = finalize_model(gbc)"
   ]
  },
  {
   "cell_type": "code",
   "execution_count": 62,
   "id": "fa075750",
   "metadata": {},
   "outputs": [
    {
     "data": {
      "text/plain": [
       "GradientBoostingClassifier(ccp_alpha=0.0, criterion='friedman_mse', init=None,\n",
       "                           learning_rate=0.1, loss='deviance', max_depth=3,\n",
       "                           max_features=None, max_leaf_nodes=None,\n",
       "                           min_impurity_decrease=0.0, min_impurity_split=None,\n",
       "                           min_samples_leaf=1, min_samples_split=2,\n",
       "                           min_weight_fraction_leaf=0.0, n_estimators=100,\n",
       "                           n_iter_no_change=None, presort='deprecated',\n",
       "                           random_state=123, subsample=1.0, tol=0.0001,\n",
       "                           validation_fraction=0.1, verbose=0,\n",
       "                           warm_start=False)"
      ]
     },
     "execution_count": 62,
     "metadata": {},
     "output_type": "execute_result"
    }
   ],
   "source": [
    "final_model"
   ]
  },
  {
   "cell_type": "code",
   "execution_count": 63,
   "id": "cf541b2a",
   "metadata": {},
   "outputs": [
    {
     "name": "stdout",
     "output_type": "stream",
     "text": [
      "Transformation Pipeline and Model Successfully Saved\n"
     ]
    },
    {
     "data": {
      "text/plain": [
       "(Pipeline(memory=None,\n",
       "          steps=[('dtypes',\n",
       "                  DataTypes_Auto_infer(categorical_features=[],\n",
       "                                       display_types=True, features_todrop=[],\n",
       "                                       id_columns=[],\n",
       "                                       ml_usecase='classification',\n",
       "                                       numerical_features=['yearsAtCompany',\n",
       "                                                           'averageMonthlyHours'],\n",
       "                                       target='turnover', time_features=[])),\n",
       "                 ('imputer',\n",
       "                  Iterative_Imputer(add_indicator=False,\n",
       "                                    classifier=LGBMClassifier(boosting_type='...\n",
       "                                             learning_rate=0.1, loss='deviance',\n",
       "                                             max_depth=3, max_features=None,\n",
       "                                             max_leaf_nodes=None,\n",
       "                                             min_impurity_decrease=0.0,\n",
       "                                             min_impurity_split=None,\n",
       "                                             min_samples_leaf=1,\n",
       "                                             min_samples_split=2,\n",
       "                                             min_weight_fraction_leaf=0.0,\n",
       "                                             n_estimators=100,\n",
       "                                             n_iter_no_change=None,\n",
       "                                             presort='deprecated',\n",
       "                                             random_state=123, subsample=1.0,\n",
       "                                             tol=0.0001, validation_fraction=0.1,\n",
       "                                             verbose=0, warm_start=False)]],\n",
       "          verbose=False),\n",
       " 'model.pkl')"
      ]
     },
     "execution_count": 63,
     "metadata": {},
     "output_type": "execute_result"
    }
   ],
   "source": [
    "save_model(final_model,'model')"
   ]
  },
  {
   "cell_type": "markdown",
   "id": "82abd6f9",
   "metadata": {},
   "source": [
    "#### Transferindo os arquivos para o Data Lake."
   ]
  },
  {
   "cell_type": "markdown",
   "id": "44f64c93",
   "metadata": {},
   "source": [
    "#### Modelo de Classificação."
   ]
  },
  {
   "cell_type": "code",
   "execution_count": 64,
   "id": "b3e706ee",
   "metadata": {},
   "outputs": [
    {
     "data": {
      "text/plain": [
       "<minio.helpers.ObjectWriteResult at 0x15841f7efa0>"
      ]
     },
     "execution_count": 64,
     "metadata": {},
     "output_type": "execute_result"
    }
   ],
   "source": [
    "client.fput_object(\n",
    "    \"curated\",\n",
    "    \"model.pkl\",\n",
    "    \"model.pkl\"\n",
    ")"
   ]
  },
  {
   "cell_type": "markdown",
   "id": "2635bec6",
   "metadata": {},
   "source": [
    "#### Exportando o conjunto de dados para o disco."
   ]
  },
  {
   "cell_type": "code",
   "execution_count": 65,
   "id": "264b2b6e",
   "metadata": {
    "scrolled": true
   },
   "outputs": [],
   "source": [
    "df.to_csv(\"dataset.csv\",index=False)"
   ]
  },
  {
   "cell_type": "code",
   "execution_count": 66,
   "id": "118373ab",
   "metadata": {},
   "outputs": [
    {
     "data": {
      "text/plain": [
       "<minio.helpers.ObjectWriteResult at 0x15843502ee0>"
      ]
     },
     "execution_count": 66,
     "metadata": {},
     "output_type": "execute_result"
    }
   ],
   "source": [
    "client.fput_object(\n",
    "    \"curated\",\n",
    "    \"dataset.csv\",\n",
    "    \"dataset.csv\"\n",
    ")"
   ]
  }
 ],
 "metadata": {
  "kernelspec": {
   "display_name": "Python 3 (ipykernel)",
   "language": "python",
   "name": "python3"
  },
  "language_info": {
   "codemirror_mode": {
    "name": "ipython",
    "version": 3
   },
   "file_extension": ".py",
   "mimetype": "text/x-python",
   "name": "python",
   "nbconvert_exporter": "python",
   "pygments_lexer": "ipython3",
   "version": "3.9.7"
  }
 },
 "nbformat": 4,
 "nbformat_minor": 5
}
