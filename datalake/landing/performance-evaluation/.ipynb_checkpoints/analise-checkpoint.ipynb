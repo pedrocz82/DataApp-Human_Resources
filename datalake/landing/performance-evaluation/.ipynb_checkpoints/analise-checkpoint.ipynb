{
 "cells": [
  {
   "cell_type": "markdown",
   "id": "06a7f697",
   "metadata": {},
   "source": [
    "Analise exploratoria de dados"
   ]
  },
  {
   "cell_type": "code",
   "execution_count": 2,
   "id": "cde7d7c6",
   "metadata": {},
   "outputs": [
    {
     "name": "stdout",
     "output_type": "stream",
     "text": [
      "Collecting minio\n",
      "  Downloading minio-7.1.2-py3-none-any.whl (75 kB)\n",
      "Requirement already satisfied: certifi in c:\\users\\user\\anaconda3\\lib\\site-packages (from minio) (2021.10.8)\n",
      "Requirement already satisfied: urllib3 in c:\\users\\user\\anaconda3\\lib\\site-packages (from minio) (1.26.7)\n",
      "Installing collected packages: minio\n",
      "Successfully installed minio-7.1.2\n"
     ]
    }
   ],
   "source": [
    "#!pip install minio"
   ]
  },
  {
   "cell_type": "code",
   "execution_count": 6,
   "id": "1269b5e9",
   "metadata": {},
   "outputs": [
    {
     "name": "stdout",
     "output_type": "stream",
     "text": [
      "Collecting fastparquet\n",
      "  Downloading fastparquet-0.8.0-cp39-cp39-win_amd64.whl (667 kB)\n",
      "Requirement already satisfied: pandas>=1.1.0 in c:\\users\\user\\anaconda3\\lib\\site-packages (from fastparquet) (1.3.4)\n",
      "Requirement already satisfied: fsspec in c:\\users\\user\\anaconda3\\lib\\site-packages (from fastparquet) (2021.10.1)\n",
      "Collecting cramjam>=2.3.0\n",
      "  Downloading cramjam-2.5.0-cp39-none-win_amd64.whl (993 kB)\n",
      "Requirement already satisfied: numpy>=1.18 in c:\\users\\user\\anaconda3\\lib\\site-packages (from fastparquet) (1.20.3)\n",
      "Requirement already satisfied: python-dateutil>=2.7.3 in c:\\users\\user\\anaconda3\\lib\\site-packages (from pandas>=1.1.0->fastparquet) (2.8.2)\n",
      "Requirement already satisfied: pytz>=2017.3 in c:\\users\\user\\anaconda3\\lib\\site-packages (from pandas>=1.1.0->fastparquet) (2021.3)\n",
      "Requirement already satisfied: six>=1.5 in c:\\users\\user\\anaconda3\\lib\\site-packages (from python-dateutil>=2.7.3->pandas>=1.1.0->fastparquet) (1.16.0)\n",
      "Installing collected packages: cramjam, fastparquet\n",
      "Successfully installed cramjam-2.5.0 fastparquet-0.8.0\n"
     ]
    }
   ],
   "source": [
    "!pip install fastparquet"
   ]
  },
  {
   "cell_type": "code",
   "execution_count": 5,
   "id": "8c3470af",
   "metadata": {},
   "outputs": [],
   "source": [
    "import pandas as pd\n",
    "import datetime\n",
    "import glob\n",
    "from minio import Minio\n",
    "import seaborn as sns\n",
    "import matplotlib.pyplot as plt"
   ]
  },
  {
   "cell_type": "code",
   "execution_count": 6,
   "id": "cd839bb9",
   "metadata": {},
   "outputs": [],
   "source": [
    "client = Minio(\n",
    "    'localhost:9000',\n",
    "access_key='minioadmin',\n",
    "secret_key='minioadmin',\n",
    "secure=False\n",
    ")"
   ]
  },
  {
   "cell_type": "markdown",
   "id": "2a8123a0",
   "metadata": {},
   "source": [
    "Baixando o dataset do data lake"
   ]
  },
  {
   "cell_type": "code",
   "execution_count": 7,
   "id": "22aa481c",
   "metadata": {},
   "outputs": [],
   "source": [
    "client.fget_object(\n",
    "'processing',\n",
    "'employees_dataset.parquet',\n",
    "'temp_.parquet',\n",
    ")\n",
    "\n",
    "df = pd.read_parquet('temp_.parquet')"
   ]
  },
  {
   "cell_type": "code",
   "execution_count": 8,
   "id": "58b62bbb",
   "metadata": {},
   "outputs": [
    {
     "data": {
      "text/plain": [
       "department                    1\n",
       "salary                        1\n",
       "left                          1\n",
       "mean_work_last_3_months       0\n",
       "number_projects            9278\n",
       "satisfaction_level            1\n",
       "last_evaluation               1\n",
       "time_in_company               1\n",
       "work_accident                 1\n",
       "dtype: int64"
      ]
     },
     "execution_count": 8,
     "metadata": {},
     "output_type": "execute_result"
    }
   ],
   "source": [
    "df.isnull().sum()"
   ]
  },
  {
   "cell_type": "code",
   "execution_count": 9,
   "id": "fb907d56",
   "metadata": {},
   "outputs": [],
   "source": [
    "#organizando o dataset"
   ]
  },
  {
   "cell_type": "code",
   "execution_count": 33,
   "id": "0ab9b030",
   "metadata": {},
   "outputs": [],
   "source": [
    "df = df[['department', 'salary', 'left', 'mean_work_last_3_months',\n",
    "       'number_projects', 'satisfaction_level', 'last_evaluation',\n",
    "       'time_in_company', 'work_accident']]"
   ]
  },
  {
   "cell_type": "code",
   "execution_count": 34,
   "id": "2aeabc4e",
   "metadata": {},
   "outputs": [
    {
     "data": {
      "text/plain": [
       "array([ 2.,  5.,  7.,  6.,  4.,  3.,  1., nan])"
      ]
     },
     "execution_count": 34,
     "metadata": {},
     "output_type": "execute_result"
    }
   ],
   "source": [
    "df.number_projects.unique()"
   ]
  },
  {
   "cell_type": "code",
   "execution_count": 35,
   "id": "79574d97",
   "metadata": {},
   "outputs": [
    {
     "data": {
      "text/plain": [
       "department                    1\n",
       "salary                        1\n",
       "left                          1\n",
       "mean_work_last_3_months       0\n",
       "number_projects            9278\n",
       "satisfaction_level            1\n",
       "last_evaluation               1\n",
       "time_in_company               1\n",
       "work_accident                 1\n",
       "dtype: int64"
      ]
     },
     "execution_count": 35,
     "metadata": {},
     "output_type": "execute_result"
    }
   ],
   "source": [
    "#verificando missing values\n",
    "df.isnull().sum()"
   ]
  },
  {
   "cell_type": "code",
   "execution_count": 18,
   "id": "a62f5961",
   "metadata": {},
   "outputs": [
    {
     "data": {
      "text/html": [
       "<div>\n",
       "<style scoped>\n",
       "    .dataframe tbody tr th:only-of-type {\n",
       "        vertical-align: middle;\n",
       "    }\n",
       "\n",
       "    .dataframe tbody tr th {\n",
       "        vertical-align: top;\n",
       "    }\n",
       "\n",
       "    .dataframe thead th {\n",
       "        text-align: right;\n",
       "    }\n",
       "</style>\n",
       "<table border=\"1\" class=\"dataframe\">\n",
       "  <thead>\n",
       "    <tr style=\"text-align: right;\">\n",
       "      <th></th>\n",
       "      <th>department</th>\n",
       "      <th>salary</th>\n",
       "      <th>left</th>\n",
       "      <th>left</th>\n",
       "      <th>mean_work_last_3_months</th>\n",
       "      <th>number_projects</th>\n",
       "      <th>satisfaction_level</th>\n",
       "      <th>last_evaluation</th>\n",
       "      <th>time_in_company</th>\n",
       "      <th>work_accident</th>\n",
       "    </tr>\n",
       "  </thead>\n",
       "  <tbody>\n",
       "    <tr>\n",
       "      <th>0</th>\n",
       "      <td>sales</td>\n",
       "      <td>low</td>\n",
       "      <td>1.0</td>\n",
       "      <td>1.0</td>\n",
       "      <td>266.000000</td>\n",
       "      <td>2.0</td>\n",
       "      <td>38.0</td>\n",
       "      <td>53.0</td>\n",
       "      <td>3.0</td>\n",
       "      <td>0.0</td>\n",
       "    </tr>\n",
       "    <tr>\n",
       "      <th>1</th>\n",
       "      <td>sales</td>\n",
       "      <td>medium</td>\n",
       "      <td>1.0</td>\n",
       "      <td>1.0</td>\n",
       "      <td>252.000000</td>\n",
       "      <td>5.0</td>\n",
       "      <td>80.0</td>\n",
       "      <td>86.0</td>\n",
       "      <td>6.0</td>\n",
       "      <td>0.0</td>\n",
       "    </tr>\n",
       "    <tr>\n",
       "      <th>2</th>\n",
       "      <td>sales</td>\n",
       "      <td>medium</td>\n",
       "      <td>1.0</td>\n",
       "      <td>1.0</td>\n",
       "      <td>289.666667</td>\n",
       "      <td>7.0</td>\n",
       "      <td>11.0</td>\n",
       "      <td>88.0</td>\n",
       "      <td>4.0</td>\n",
       "      <td>0.0</td>\n",
       "    </tr>\n",
       "    <tr>\n",
       "      <th>3</th>\n",
       "      <td>sales</td>\n",
       "      <td>low</td>\n",
       "      <td>1.0</td>\n",
       "      <td>1.0</td>\n",
       "      <td>275.666667</td>\n",
       "      <td>5.0</td>\n",
       "      <td>72.0</td>\n",
       "      <td>87.0</td>\n",
       "      <td>5.0</td>\n",
       "      <td>0.0</td>\n",
       "    </tr>\n",
       "    <tr>\n",
       "      <th>4</th>\n",
       "      <td>sales</td>\n",
       "      <td>low</td>\n",
       "      <td>1.0</td>\n",
       "      <td>1.0</td>\n",
       "      <td>292.333333</td>\n",
       "      <td>2.0</td>\n",
       "      <td>37.0</td>\n",
       "      <td>52.0</td>\n",
       "      <td>3.0</td>\n",
       "      <td>0.0</td>\n",
       "    </tr>\n",
       "    <tr>\n",
       "      <th>...</th>\n",
       "      <td>...</td>\n",
       "      <td>...</td>\n",
       "      <td>...</td>\n",
       "      <td>...</td>\n",
       "      <td>...</td>\n",
       "      <td>...</td>\n",
       "      <td>...</td>\n",
       "      <td>...</td>\n",
       "      <td>...</td>\n",
       "      <td>...</td>\n",
       "    </tr>\n",
       "    <tr>\n",
       "      <th>14995</th>\n",
       "      <td>technical</td>\n",
       "      <td>low</td>\n",
       "      <td>1.0</td>\n",
       "      <td>1.0</td>\n",
       "      <td>253.333333</td>\n",
       "      <td>NaN</td>\n",
       "      <td>37.0</td>\n",
       "      <td>48.0</td>\n",
       "      <td>3.0</td>\n",
       "      <td>0.0</td>\n",
       "    </tr>\n",
       "    <tr>\n",
       "      <th>14996</th>\n",
       "      <td>technical</td>\n",
       "      <td>medium</td>\n",
       "      <td>1.0</td>\n",
       "      <td>1.0</td>\n",
       "      <td>288.000000</td>\n",
       "      <td>NaN</td>\n",
       "      <td>37.0</td>\n",
       "      <td>53.0</td>\n",
       "      <td>3.0</td>\n",
       "      <td>0.0</td>\n",
       "    </tr>\n",
       "    <tr>\n",
       "      <th>14997</th>\n",
       "      <td>support</td>\n",
       "      <td>low</td>\n",
       "      <td>1.0</td>\n",
       "      <td>1.0</td>\n",
       "      <td>272.000000</td>\n",
       "      <td>NaN</td>\n",
       "      <td>11.0</td>\n",
       "      <td>96.0</td>\n",
       "      <td>4.0</td>\n",
       "      <td>0.0</td>\n",
       "    </tr>\n",
       "    <tr>\n",
       "      <th>14998</th>\n",
       "      <td>support</td>\n",
       "      <td>low</td>\n",
       "      <td>1.0</td>\n",
       "      <td>1.0</td>\n",
       "      <td>276.666667</td>\n",
       "      <td>NaN</td>\n",
       "      <td>37.0</td>\n",
       "      <td>52.0</td>\n",
       "      <td>3.0</td>\n",
       "      <td>0.0</td>\n",
       "    </tr>\n",
       "    <tr>\n",
       "      <th>14999</th>\n",
       "      <td>NaN</td>\n",
       "      <td>NaN</td>\n",
       "      <td>NaN</td>\n",
       "      <td>NaN</td>\n",
       "      <td>261.000000</td>\n",
       "      <td>NaN</td>\n",
       "      <td>NaN</td>\n",
       "      <td>NaN</td>\n",
       "      <td>NaN</td>\n",
       "      <td>NaN</td>\n",
       "    </tr>\n",
       "  </tbody>\n",
       "</table>\n",
       "<p>15000 rows × 10 columns</p>\n",
       "</div>"
      ],
      "text/plain": [
       "      department  salary  left  left  mean_work_last_3_months  \\\n",
       "0          sales     low   1.0   1.0               266.000000   \n",
       "1          sales  medium   1.0   1.0               252.000000   \n",
       "2          sales  medium   1.0   1.0               289.666667   \n",
       "3          sales     low   1.0   1.0               275.666667   \n",
       "4          sales     low   1.0   1.0               292.333333   \n",
       "...          ...     ...   ...   ...                      ...   \n",
       "14995  technical     low   1.0   1.0               253.333333   \n",
       "14996  technical  medium   1.0   1.0               288.000000   \n",
       "14997    support     low   1.0   1.0               272.000000   \n",
       "14998    support     low   1.0   1.0               276.666667   \n",
       "14999        NaN     NaN   NaN   NaN               261.000000   \n",
       "\n",
       "       number_projects  satisfaction_level  last_evaluation  time_in_company  \\\n",
       "0                  2.0                38.0             53.0              3.0   \n",
       "1                  5.0                80.0             86.0              6.0   \n",
       "2                  7.0                11.0             88.0              4.0   \n",
       "3                  5.0                72.0             87.0              5.0   \n",
       "4                  2.0                37.0             52.0              3.0   \n",
       "...                ...                 ...              ...              ...   \n",
       "14995              NaN                37.0             48.0              3.0   \n",
       "14996              NaN                37.0             53.0              3.0   \n",
       "14997              NaN                11.0             96.0              4.0   \n",
       "14998              NaN                37.0             52.0              3.0   \n",
       "14999              NaN                 NaN              NaN              NaN   \n",
       "\n",
       "       work_accident  \n",
       "0                0.0  \n",
       "1                0.0  \n",
       "2                0.0  \n",
       "3                0.0  \n",
       "4                0.0  \n",
       "...              ...  \n",
       "14995            0.0  \n",
       "14996            0.0  \n",
       "14997            0.0  \n",
       "14998            0.0  \n",
       "14999            NaN  \n",
       "\n",
       "[15000 rows x 10 columns]"
      ]
     },
     "execution_count": 18,
     "metadata": {},
     "output_type": "execute_result"
    }
   ],
   "source": [
    "df[df.notnull()]"
   ]
  },
  {
   "cell_type": "code",
   "execution_count": null,
   "id": "02ea6151",
   "metadata": {},
   "outputs": [],
   "source": []
  }
 ],
 "metadata": {
  "kernelspec": {
   "display_name": "Python 3 (ipykernel)",
   "language": "python",
   "name": "python3"
  },
  "language_info": {
   "codemirror_mode": {
    "name": "ipython",
    "version": 3
   },
   "file_extension": ".py",
   "mimetype": "text/x-python",
   "name": "python",
   "nbconvert_exporter": "python",
   "pygments_lexer": "ipython3",
   "version": "3.9.7"
  }
 },
 "nbformat": 4,
 "nbformat_minor": 5
}
